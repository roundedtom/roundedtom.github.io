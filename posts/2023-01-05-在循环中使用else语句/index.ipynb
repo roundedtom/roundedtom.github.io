{
 "cells": [
  {
   "cell_type": "raw",
   "id": "743cb8c9",
   "metadata": {
    "vscode": {
     "languageId": "raw"
    }
   },
   "source": [
    "---\n",
    "title: \"在循环中使用else语句\"\n",
    "author: Tom\n",
    "date: '2023-01-15'\n",
    "number-sections: false\n",
    "highlight-style: atom-one\n",
    "code-block-bg: true\n",
    "categories:\n",
    "  - Python\n",
    "image: code-snapshot.png\n",
    "code-fold: false\n",
    "html-math-method: katex\n",
    "jupyter: python3\n",
    "---"
   ]
  },
  {
   "attachments": {},
   "cell_type": "markdown",
   "id": "276de0ee",
   "metadata": {},
   "source": [
    "`for/else` 和 `while/else` 中的 `else` 语句后的内容，在循环正常结束时，才会执行。换一句话说，当 `for` 循环或者 `While` 循环遇到 `break` 跳出循环时，`else` 语句后的内容则不执行。这个特性可以让某些行为变得更优雅，比如搜索过程。一般我们可能会利用一个标识变量（flag varable），当条件满足时，改变标识变量的值，然后跳出循环。比如下面这个例子，判断 John 是不是我们的顾客：\n",
    "<!-- TEASER_END -->"
   ]
  },
  {
   "cell_type": "code",
   "execution_count": 1,
   "id": "ad12b8ab",
   "metadata": {},
   "outputs": [
    {
     "name": "stdout",
     "output_type": "stream",
     "text": [
      "John is not our customer.\n"
     ]
    }
   ],
   "source": [
    "customers = ['Tom', 'Mike', 'Jeff', 'Tony']\n",
    "is_John = False\n",
    "for c in customers:\n",
    "    if 'John' in customers:\n",
    "        is_John = True\n",
    "        break\n",
    "    \n",
    "if is_John:\n",
    "    print('John is our customer.')\n",
    "else:\n",
    "    print('John is not our customer.')"
   ]
  },
  {
   "attachments": {},
   "cell_type": "markdown",
   "id": "5be0d0c1",
   "metadata": {},
   "source": [
    "利用 `else` 语句，则不需要设置标识变量，当循环正常结束时，则表明 John 不是我们的顾客。"
   ]
  },
  {
   "cell_type": "code",
   "execution_count": 2,
   "id": "78b56907",
   "metadata": {},
   "outputs": [
    {
     "name": "stdout",
     "output_type": "stream",
     "text": [
      "John is not our customer.\n"
     ]
    }
   ],
   "source": [
    "customers = ['Tom', 'Mike', 'Jeff', 'Tony']\n",
    "for c in customers:\n",
    "    if 'John' in customers:\n",
    "        print('John is our customer.')\n",
    "        break\n",
    "else:\n",
    "    print('John is not our customer.')"
   ]
  },
  {
   "attachments": {},
   "cell_type": "markdown",
   "id": "eddd8e1b",
   "metadata": {},
   "source": [
    "利用 `else` 语句也可以执行一些必要内容。比如使用 selenium 爬虫结束后，我们需要 `driver.close()` 和 `driver.quit()` 释放内存资源。那么在循环解析页面时，我们也可以把这两个语句放到 `else` 后面。"
   ]
  },
  {
   "cell_type": "code",
   "execution_count": null,
   "id": "0a57dfe4",
   "metadata": {},
   "outputs": [],
   "source": [
    "# pseudocode\n",
    "for url in url_list:\n",
    "    driver.get(url)\n",
    "else:\n",
    "    driver.close()\n",
    "    driver.quit()"
   ]
  }
 ],
 "metadata": {
  "kernelspec": {
   "display_name": "Python 3 (ipykernel)",
   "language": "python",
   "name": "python3"
  },
  "language_info": {
   "codemirror_mode": {
    "name": "ipython",
    "version": 3
   },
   "file_extension": ".py",
   "mimetype": "text/x-python",
   "name": "python",
   "nbconvert_exporter": "python",
   "pygments_lexer": "ipython3",
   "version": "3.9.1"
  },
  "nikola": {
   "category": "Coding",
   "date": "2023-01-15 12:21:36 UTC+08:00",
   "description": "notes about for else and while else in Python",
   "link": "",
   "slug": "using-else-statement-in-a-loop",
   "tags": [
    "Python Tips",
    "Jupyter-notebook"
   ],
   "title": "Using else statement in a loop",
   "type": "text"
  },
  "vscode": {
   "interpreter": {
    "hash": "aee8b7b246df8f9039afb4144a1f6fd8d2ca17a180786b69acc140d282b71a49"
   }
  }
 },
 "nbformat": 4,
 "nbformat_minor": 5
}
