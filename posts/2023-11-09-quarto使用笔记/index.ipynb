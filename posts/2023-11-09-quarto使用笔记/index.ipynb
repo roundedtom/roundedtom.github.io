{
 "cells": [
  {
   "cell_type": "raw",
   "metadata": {
    "vscode": {
     "languageId": "raw"
    }
   },
   "source": [
    "---\n",
    "title: Quarto使用笔记\n",
    "description: 记录使用Quarto建立网站的过程，以及使用Quarto的小技巧。\n",
    "author: Tom\n",
    "date: \"2023-11-09\"\n",
    "toc: true\n",
    "code-block-bg: true\n",
    "highlight-style: atom-one\n",
    "categories:\n",
    "  - 网站博客\n",
    "image: quarto.png\n",
    "code-fold: false\n",
    "html-math-method: katex\n",
    "jupyter: python3\n",
    "---"
   ]
  },
  {
   "cell_type": "raw",
   "metadata": {},
   "source": []
  },
  {
   "cell_type": "raw",
   "metadata": {},
   "source": []
  },
  {
   "cell_type": "raw",
   "metadata": {},
   "source": []
  },
  {
   "cell_type": "raw",
   "metadata": {},
   "source": []
  },
  {
   "cell_type": "raw",
   "metadata": {},
   "source": []
  },
  {
   "cell_type": "markdown",
   "metadata": {},
   "source": [
    "# Metadata\n",
    "\n",
    "Quarto 文章 metadata 采用 Yaml 语言定义，以下是一个常见的例子：\n",
    "\n",
    "```yaml\n",
    "---\n",
    "title: Quarto Notes\n",
    "author: Tom\n",
    "date: \"2023-11-09\"\n",
    "toc: true # 是否开启文章目录\n",
    "toc-depth: 2 # 目录层级深度，默认3级目录\n",
    "toc-expand: true # 目录是否展开\n",
    "code-block-bg: true # 代码块背景颜色\n",
    "highlight-style: atom-one # 代码块语法高亮风格\n",
    "categories: [博客]\n",
    "code-fold: false # 代码块是否折叠\n",
    "cold-line-numbers: true # 代码块是否显示行数\n",
    "code-copy: true # true/false/hover\n",
    "draft: false # 博文是否为草稿，草稿不显示在博客中\n",
    "html-math-method: katex # latex 引擎，默认是 MathJax\n",
    "jupyter: python3\n",
    "---\n",
    "```\n",
    "\n",
    "# Markdown\n",
    "\n",
    "图片占比 100%\n",
    "\n",
    "```markdown\n",
    "![](./quarto.png){width=100%}\n",
    "```\n",
    "\n",
    "# latex\n",
    "\n",
    "```latex\n",
    "\\begin{split}\n",
    "E(X) &= \\int{x\\int{yf_{X,Y}(x,y)dy}dx} \\\\\n",
    "&= \\int{xf_{X}(x)dx} \\\\\n",
    "&= E(X)\n",
    "\\end{split}\n",
    "```\n",
    "\n",
    "# Git\n",
    "\n",
    "```bash\n",
    "# 查看仓库状态\n",
    "git status\n",
    "# 查看文件修改情况\n",
    "git diff filename\n",
    "# 将文件修改提交到暂存区\n",
    "git add filename\n",
    "# 将所有文件提交到暂存区\n",
    "git add -A.\n",
    "# 将暂存区的内容提交到当前分支\n",
    "git commit\n",
    "# 将内容推送到远程仓库\n",
    "git push -u origin main\n",
    "```\n"
   ]
  }
 ],
 "metadata": {
  "kernelspec": {
   "display_name": "Python 3",
   "language": "python",
   "name": "python3"
  },
  "language_info": {
   "codemirror_mode": {
    "name": "ipython",
    "version": 3
   },
   "file_extension": ".py",
   "mimetype": "text/x-python",
   "name": "python",
   "nbconvert_exporter": "python",
   "pygments_lexer": "ipython3",
   "version": "3.9.1"
  }
 },
 "nbformat": 4,
 "nbformat_minor": 2
}
