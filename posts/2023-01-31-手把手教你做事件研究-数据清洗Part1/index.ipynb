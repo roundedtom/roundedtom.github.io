{
 "cells": [
  {
   "cell_type": "raw",
   "id": "714fc040",
   "metadata": {
    "vscode": {
     "languageId": "raw"
    }
   },
   "source": [
    "---\n",
    "title: \"手把手教你做事件研究-数据清洗Part1\"\n",
    "author: Tom\n",
    "date: '2023-01-31'\n",
    "toc: false\n",
    "number-sections: false\n",
    "highlight-style: atom-one\n",
    "code-block-bg: true\n",
    "categories:\n",
    "  - 计量分析\n",
    "image: event-study.png\n",
    "code-fold: false\n",
    "html-math-method: katex\n",
    "jupyter: python3\n",
    "---"
   ]
  },
  {
   "attachments": {},
   "cell_type": "markdown",
   "id": "87dc06c4",
   "metadata": {},
   "source": [
    "这篇博客（[视频](https://www.bilibili.com/video/BV1r3411979W/?spm_id_from=333.999.0.0&vd_source=b4496ba547455f3db613a8f8de6bea01)）记录区块链技术投资公告效应研究样本的数据清洗过程，主要内容是剔除并非区块链技术投资事件相关公告；剔除 ST 类公司；剔除年度、季度公告、发债类公告、招股说明书、发行股票募集说明书、非公开发行普通股、非公开发行优先股、发行保荐书、社会责任公告等。\n",
    "<!-- TEASER_END -->"
   ]
  },
  {
   "cell_type": "code",
   "execution_count": 1,
   "id": "7aa25bc7-548b-4b4b-b998-a3e6348a1754",
   "metadata": {},
   "outputs": [],
   "source": [
    "import numpy as np\n",
    "import pandas as pd"
   ]
  },
  {
   "cell_type": "code",
   "execution_count": 2,
   "id": "442d48b0-c23d-4998-8188-9bb45910fb36",
   "metadata": {},
   "outputs": [],
   "source": [
    "raw_data = pd.read_csv('./data/raw_data.csv')"
   ]
  },
  {
   "cell_type": "code",
   "execution_count": 3,
   "id": "08a3458e-c936-4d12-93a8-b57d78275bfb",
   "metadata": {},
   "outputs": [
    {
     "data": {
      "text/html": [
       "<div>\n",
       "<style scoped>\n",
       "    .dataframe tbody tr th:only-of-type {\n",
       "        vertical-align: middle;\n",
       "    }\n",
       "\n",
       "    .dataframe tbody tr th {\n",
       "        vertical-align: top;\n",
       "    }\n",
       "\n",
       "    .dataframe thead th {\n",
       "        text-align: right;\n",
       "    }\n",
       "</style>\n",
       "<table border=\"1\" class=\"dataframe\">\n",
       "  <thead>\n",
       "    <tr style=\"text-align: right;\">\n",
       "      <th></th>\n",
       "      <th>secCode</th>\n",
       "      <th>secName</th>\n",
       "      <th>orgId</th>\n",
       "      <th>announcementTitle</th>\n",
       "      <th>announcementTime</th>\n",
       "      <th>adjunctUrl</th>\n",
       "      <th>announcementContent</th>\n",
       "    </tr>\n",
       "  </thead>\n",
       "  <tbody>\n",
       "    <tr>\n",
       "      <th>0</th>\n",
       "      <td>000631</td>\n",
       "      <td>顺发恒业</td>\n",
       "      <td>gssz0000631</td>\n",
       "      <td>*ST 兰宝：重大资产出售、发行股份购买资产暨关联交易报告书（修订稿）</td>\n",
       "      <td>2009-02-28</td>\n",
       "      <td>http://static.cninfo.com.cn/finalpage/2009-02-...</td>\n",
       "      <td>（二）公司业绩持续下滑，且无改善迹象 由于个别银行发现公司资金链紧张，逐步停止转贷并收缩银根...</td>\n",
       "    </tr>\n",
       "    <tr>\n",
       "      <th>1</th>\n",
       "      <td>600596</td>\n",
       "      <td>新安股份</td>\n",
       "      <td>gssh0600596</td>\n",
       "      <td>新安股份：2008年年度报告</td>\n",
       "      <td>2009-03-10</td>\n",
       "      <td>http://static.cninfo.com.cn/finalpage/2009-03-...</td>\n",
       "      <td>3.新安包装公司搬迁事项 因新安江桥东区块旧城改造，新安包装公司于本期从老厂区（新安江街道桥...</td>\n",
       "    </tr>\n",
       "    <tr>\n",
       "      <th>2</th>\n",
       "      <td>600267</td>\n",
       "      <td>海正药业</td>\n",
       "      <td>gssh0600267</td>\n",
       "      <td>海正药业：2008年年度股东大会会议资料</td>\n",
       "      <td>2009-03-20</td>\n",
       "      <td>http://static.cninfo.com.cn/finalpage/2009-03-...</td>\n",
       "      <td>100.00% 141,278 100.00% 115,132 100.00% 公司凭借原料...</td>\n",
       "    </tr>\n",
       "    <tr>\n",
       "      <th>3</th>\n",
       "      <td>002244</td>\n",
       "      <td>滨江集团</td>\n",
       "      <td>9900004730</td>\n",
       "      <td>滨江集团：2008年年度报告</td>\n",
       "      <td>2009-03-20</td>\n",
       "      <td>http://static.cninfo.com.cn/finalpage/2009-03-...</td>\n",
       "      <td>江干科技经济园区地块开发协议书》（江科园协字【2006】035 号），约定就“S08、09、...</td>\n",
       "    </tr>\n",
       "    <tr>\n",
       "      <th>4</th>\n",
       "      <td>000301</td>\n",
       "      <td>东方盛虹</td>\n",
       "      <td>gssz0000301</td>\n",
       "      <td>东方市场：2008年年度报告</td>\n",
       "      <td>2009-03-24</td>\n",
       "      <td>http://static.cninfo.com.cn/finalpage/2009-03-...</td>\n",
       "      <td>公司将采取措施进一步完善产业链，继续减少关联交易。</td>\n",
       "    </tr>\n",
       "  </tbody>\n",
       "</table>\n",
       "</div>"
      ],
      "text/plain": [
       "  secCode secName        orgId                    announcementTitle  \\\n",
       "0  000631    顺发恒业  gssz0000631  *ST 兰宝：重大资产出售、发行股份购买资产暨关联交易报告书（修订稿）   \n",
       "1  600596    新安股份  gssh0600596                       新安股份：2008年年度报告   \n",
       "2  600267    海正药业  gssh0600267                 海正药业：2008年年度股东大会会议资料   \n",
       "3  002244    滨江集团   9900004730                       滨江集团：2008年年度报告   \n",
       "4  000301    东方盛虹  gssz0000301                       东方市场：2008年年度报告   \n",
       "\n",
       "  announcementTime                                         adjunctUrl  \\\n",
       "0       2009-02-28  http://static.cninfo.com.cn/finalpage/2009-02-...   \n",
       "1       2009-03-10  http://static.cninfo.com.cn/finalpage/2009-03-...   \n",
       "2       2009-03-20  http://static.cninfo.com.cn/finalpage/2009-03-...   \n",
       "3       2009-03-20  http://static.cninfo.com.cn/finalpage/2009-03-...   \n",
       "4       2009-03-24  http://static.cninfo.com.cn/finalpage/2009-03-...   \n",
       "\n",
       "                                 announcementContent  \n",
       "0  （二）公司业绩持续下滑，且无改善迹象 由于个别银行发现公司资金链紧张，逐步停止转贷并收缩银根...  \n",
       "1  3.新安包装公司搬迁事项 因新安江桥东区块旧城改造，新安包装公司于本期从老厂区（新安江街道桥...  \n",
       "2  100.00% 141,278 100.00% 115,132 100.00% 公司凭借原料...  \n",
       "3  江干科技经济园区地块开发协议书》（江科园协字【2006】035 号），约定就“S08、09、...  \n",
       "4                          公司将采取措施进一步完善产业链，继续减少关联交易。  "
      ]
     },
     "execution_count": 3,
     "metadata": {},
     "output_type": "execute_result"
    }
   ],
   "source": [
    "raw_data.head()"
   ]
  },
  {
   "cell_type": "code",
   "execution_count": 4,
   "id": "75d59945-3fe4-4ac7-b31a-90e61cc66ddd",
   "metadata": {},
   "outputs": [
    {
     "name": "stdout",
     "output_type": "stream",
     "text": [
      "<class 'pandas.core.frame.DataFrame'>\n",
      "RangeIndex: 11050 entries, 0 to 11049\n",
      "Data columns (total 7 columns):\n",
      " #   Column               Non-Null Count  Dtype \n",
      "---  ------               --------------  ----- \n",
      " 0   secCode              11050 non-null  object\n",
      " 1   secName              11050 non-null  object\n",
      " 2   orgId                11050 non-null  object\n",
      " 3   announcementTitle    11050 non-null  object\n",
      " 4   announcementTime     11050 non-null  object\n",
      " 5   adjunctUrl           11050 non-null  object\n",
      " 6   announcementContent  11050 non-null  object\n",
      "dtypes: object(7)\n",
      "memory usage: 604.4+ KB\n"
     ]
    }
   ],
   "source": [
    "raw_data.info()"
   ]
  },
  {
   "cell_type": "code",
   "execution_count": 6,
   "id": "2f0a142f-f497-463c-be76-891caa1f3053",
   "metadata": {},
   "outputs": [],
   "source": [
    "# 剔除 announcement_content 中不含 “区块链” 关键词的样本\n",
    "def filter_content(c):\n",
    "    if c.find('区块链') == -1:\n",
    "        return False\n",
    "    return True"
   ]
  },
  {
   "cell_type": "code",
   "execution_count": 7,
   "id": "50c10d22-11c6-41d6-94e8-e7831d11ba64",
   "metadata": {},
   "outputs": [
    {
     "data": {
      "text/plain": [
       "0        False\n",
       "1        False\n",
       "2        False\n",
       "3        False\n",
       "4        False\n",
       "         ...  \n",
       "11045    False\n",
       "11046    False\n",
       "11047    False\n",
       "11048    False\n",
       "11049     True\n",
       "Name: announcementContent, Length: 11050, dtype: bool"
      ]
     },
     "execution_count": 7,
     "metadata": {},
     "output_type": "execute_result"
    }
   ],
   "source": [
    "raw_data.loc[:,'announcementContent'].apply(lambda c:filter_content(c))"
   ]
  },
  {
   "cell_type": "code",
   "execution_count": 8,
   "id": "a466ea59-28e5-4d25-915c-71cce82962c0",
   "metadata": {},
   "outputs": [],
   "source": [
    "data1 = raw_data.loc[raw_data.loc[:,'announcementContent'].apply(lambda c:filter_content(c)), :]"
   ]
  },
  {
   "cell_type": "code",
   "execution_count": 9,
   "id": "e128ce8b-60db-4a38-a2e9-206185d59bec",
   "metadata": {},
   "outputs": [
    {
     "data": {
      "text/plain": [
       "7196"
      ]
     },
     "execution_count": 9,
     "metadata": {},
     "output_type": "execute_result"
    }
   ],
   "source": [
    "len(data1)"
   ]
  },
  {
   "cell_type": "code",
   "execution_count": 10,
   "id": "fd1ec47f-f012-4824-b71c-afdf50fe9901",
   "metadata": {},
   "outputs": [],
   "source": [
    "# 剔除 ST 类公司\n",
    "def filter_ST(t):\n",
    "    if t.find('ST') == -1:\n",
    "        return True\n",
    "    return False"
   ]
  },
  {
   "cell_type": "code",
   "execution_count": 11,
   "id": "31dd15de-5619-4a18-868d-4e8f7fdb2b72",
   "metadata": {},
   "outputs": [],
   "source": [
    "data2 = data1.loc[data1.loc[:,'secName'].apply(lambda t: filter_ST(t)), :]"
   ]
  },
  {
   "cell_type": "code",
   "execution_count": 12,
   "id": "3d50d07e-1316-478f-859e-caf53c153a69",
   "metadata": {},
   "outputs": [
    {
     "data": {
      "text/plain": [
       "6937"
      ]
     },
     "execution_count": 12,
     "metadata": {},
     "output_type": "execute_result"
    }
   ],
   "source": [
    "len(data2)"
   ]
  },
  {
   "cell_type": "code",
   "execution_count": 13,
   "id": "710fedde-b089-43a7-97f4-5c1144e5d0b0",
   "metadata": {},
   "outputs": [],
   "source": [
    "# 剔除年度、季度公告、发债类公告、招股说明书、发行股票募集说明书、非公开发行普通股、非公开发行优先股、发行保荐书、社会责任公告\n",
    "def filter_title(t):\n",
    "    if any([t.find('年度')!=-1, t.find('季度')!=-1, t.find('债券')!=-1, t.find('公开发行股票')!=-1, t.find('发行股票募集')!=-1,\n",
    "            t.find('非公开发行')!=-1, t.find('发行保荐书')!=-1, t.find('社会责任')!=-1, t.find('发行')!=-1]):\n",
    "        return False\n",
    "    return True"
   ]
  },
  {
   "cell_type": "code",
   "execution_count": 14,
   "id": "7e7aa60f-718b-49f5-9c84-c444c0619f75",
   "metadata": {},
   "outputs": [],
   "source": [
    "data3 = data2.loc[data2.loc[:,'announcementTitle'].apply(lambda t:filter_title(t)), :]"
   ]
  },
  {
   "cell_type": "code",
   "execution_count": 15,
   "id": "ef8b7538-f5e3-4c8c-8921-e1a9dce64061",
   "metadata": {},
   "outputs": [
    {
     "data": {
      "text/plain": [
       "1348"
      ]
     },
     "execution_count": 15,
     "metadata": {},
     "output_type": "execute_result"
    }
   ],
   "source": [
    "len(data3)"
   ]
  },
  {
   "cell_type": "code",
   "execution_count": 16,
   "id": "3531cafb-2036-42ad-bd2c-d73ec0b728f0",
   "metadata": {},
   "outputs": [],
   "source": [
    "# 筛选首份公告\n",
    "final = data3.drop_duplicates(subset=['secCode'], keep='first')"
   ]
  },
  {
   "cell_type": "code",
   "execution_count": 17,
   "id": "2777ad04-7ce9-4c3d-8c1a-2047ab6fa66d",
   "metadata": {},
   "outputs": [
    {
     "data": {
      "text/plain": [
       "394"
      ]
     },
     "execution_count": 17,
     "metadata": {},
     "output_type": "execute_result"
    }
   ],
   "source": [
    "len(final)"
   ]
  },
  {
   "cell_type": "code",
   "execution_count": 18,
   "id": "2ce61095-3800-4d02-9db1-3a92277bcd2b",
   "metadata": {},
   "outputs": [
    {
     "data": {
      "text/html": [
       "<div>\n",
       "<style scoped>\n",
       "    .dataframe tbody tr th:only-of-type {\n",
       "        vertical-align: middle;\n",
       "    }\n",
       "\n",
       "    .dataframe tbody tr th {\n",
       "        vertical-align: top;\n",
       "    }\n",
       "\n",
       "    .dataframe thead th {\n",
       "        text-align: right;\n",
       "    }\n",
       "</style>\n",
       "<table border=\"1\" class=\"dataframe\">\n",
       "  <thead>\n",
       "    <tr style=\"text-align: right;\">\n",
       "      <th></th>\n",
       "      <th>secCode</th>\n",
       "      <th>secName</th>\n",
       "      <th>orgId</th>\n",
       "      <th>announcementTitle</th>\n",
       "      <th>announcementTime</th>\n",
       "      <th>adjunctUrl</th>\n",
       "      <th>announcementContent</th>\n",
       "    </tr>\n",
       "  </thead>\n",
       "  <tbody>\n",
       "    <tr>\n",
       "      <th>1150</th>\n",
       "      <td>002152</td>\n",
       "      <td>广电运通</td>\n",
       "      <td>9900003423</td>\n",
       "      <td>广电运通：2016年4月1日投资者关系活动记录表</td>\n",
       "      <td>2016-04-06</td>\n",
       "      <td>http://static.cninfo.com.cn/finalpage/2016-04-...</td>\n",
       "      <td>9、公司提过有储备区块链技术，是否可以介绍？</td>\n",
       "    </tr>\n",
       "    <tr>\n",
       "      <th>1174</th>\n",
       "      <td>002177</td>\n",
       "      <td>御银股份</td>\n",
       "      <td>9900003781</td>\n",
       "      <td>御银股份：2016年4月21日投资者关系活动记录表</td>\n",
       "      <td>2016-04-21</td>\n",
       "      <td>http://static.cninfo.com.cn/finalpage/2016-04-...</td>\n",
       "      <td>4、公司在区块链技术上未来有什么规划？</td>\n",
       "    </tr>\n",
       "    <tr>\n",
       "      <th>1196</th>\n",
       "      <td>300386</td>\n",
       "      <td>飞天诚信</td>\n",
       "      <td>9900023058</td>\n",
       "      <td>飞天诚信：2016年4月22日投资者关系活动记录表</td>\n",
       "      <td>2016-04-25</td>\n",
       "      <td>http://static.cninfo.com.cn/finalpage/2016-04-...</td>\n",
       "      <td>公司在区块链部分如何布局?</td>\n",
       "    </tr>\n",
       "    <tr>\n",
       "      <th>1255</th>\n",
       "      <td>000997</td>\n",
       "      <td>新 大 陆</td>\n",
       "      <td>gssz0000997</td>\n",
       "      <td>新 大 陆：董事会关于本次募集资金使用的可行性分析</td>\n",
       "      <td>2016-06-03</td>\n",
       "      <td>http://static.cninfo.com.cn/finalpage/2016-06-...</td>\n",
       "      <td>支付行业技术创新和业务创新不断涌现，包括 NFC、条码（二维码）支付、可信服务平台（TSM）...</td>\n",
       "    </tr>\n",
       "    <tr>\n",
       "      <th>1266</th>\n",
       "      <td>300423</td>\n",
       "      <td>鲁亿通</td>\n",
       "      <td>9900028812</td>\n",
       "      <td>鲁亿通：关于本次交易前12个月内购买、出售资产的说明</td>\n",
       "      <td>2016-06-09</td>\n",
       "      <td>http://static.cninfo.com.cn/finalpage/2016-06-...</td>\n",
       "      <td>同时，上市公司拟采用定价发行的方式向纪法清、孔剑平、孙奇锋、王麒诚和中信建投-数贝泽华人工智...</td>\n",
       "    </tr>\n",
       "  </tbody>\n",
       "</table>\n",
       "</div>"
      ],
      "text/plain": [
       "     secCode secName        orgId           announcementTitle  \\\n",
       "1150  002152    广电运通   9900003423    广电运通：2016年4月1日投资者关系活动记录表   \n",
       "1174  002177    御银股份   9900003781   御银股份：2016年4月21日投资者关系活动记录表   \n",
       "1196  300386    飞天诚信   9900023058   飞天诚信：2016年4月22日投资者关系活动记录表   \n",
       "1255  000997   新 大 陆  gssz0000997   新 大 陆：董事会关于本次募集资金使用的可行性分析   \n",
       "1266  300423     鲁亿通   9900028812  鲁亿通：关于本次交易前12个月内购买、出售资产的说明   \n",
       "\n",
       "     announcementTime                                         adjunctUrl  \\\n",
       "1150       2016-04-06  http://static.cninfo.com.cn/finalpage/2016-04-...   \n",
       "1174       2016-04-21  http://static.cninfo.com.cn/finalpage/2016-04-...   \n",
       "1196       2016-04-25  http://static.cninfo.com.cn/finalpage/2016-04-...   \n",
       "1255       2016-06-03  http://static.cninfo.com.cn/finalpage/2016-06-...   \n",
       "1266       2016-06-09  http://static.cninfo.com.cn/finalpage/2016-06-...   \n",
       "\n",
       "                                    announcementContent  \n",
       "1150                             9、公司提过有储备区块链技术，是否可以介绍？  \n",
       "1174                                4、公司在区块链技术上未来有什么规划？  \n",
       "1196                                      公司在区块链部分如何布局?  \n",
       "1255  支付行业技术创新和业务创新不断涌现，包括 NFC、条码（二维码）支付、可信服务平台（TSM）...  \n",
       "1266  同时，上市公司拟采用定价发行的方式向纪法清、孔剑平、孙奇锋、王麒诚和中信建投-数贝泽华人工智...  "
      ]
     },
     "execution_count": 18,
     "metadata": {},
     "output_type": "execute_result"
    }
   ],
   "source": [
    "final.head()"
   ]
  },
  {
   "cell_type": "code",
   "execution_count": 19,
   "id": "635ae275-d80d-44f8-8290-b4516e07519b",
   "metadata": {},
   "outputs": [],
   "source": [
    "final.to_csv('./data/tidyed_data.csv', index=False, encoding='utf_8_sig')"
   ]
  },
  {
   "cell_type": "code",
   "execution_count": null,
   "id": "5d86ee4f-3ca5-429d-b071-ea6340c25953",
   "metadata": {},
   "outputs": [],
   "source": []
  }
 ],
 "metadata": {
  "kernelspec": {
   "display_name": "Python 3 (ipykernel)",
   "language": "python",
   "name": "python3"
  },
  "language_info": {
   "codemirror_mode": {
    "name": "ipython",
    "version": 3
   },
   "file_extension": ".py",
   "mimetype": "text/x-python",
   "name": "python",
   "nbconvert_exporter": "python",
   "pygments_lexer": "ipython3",
   "version": "3.9.1"
  },
  "nikola": {
   "category": "Econometrics",
   "date": "2023-01-31",
   "slug": "event-study-tutorial-data-cleaning-part1",
   "tags": [
    "事件研究法",
    "公告效应",
    "Python",
    "data cleaning"
   ],
   "title": "手把手教你做事件研究——数据清洗 Part1"
  }
 },
 "nbformat": 4,
 "nbformat_minor": 5
}
