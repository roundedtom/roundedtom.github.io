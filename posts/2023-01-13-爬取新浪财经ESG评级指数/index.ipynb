{
 "cells": [
  {
   "cell_type": "raw",
   "id": "62011b77",
   "metadata": {
    "vscode": {
     "languageId": "raw"
    }
   },
   "source": [
    "---\n",
    "title: \"爬取新浪财经ESG评级指数\"\n",
    "author: Tom\n",
    "date: '2023-01-13'\n",
    "toc: false\n",
    "number-sections: false\n",
    "highlight-style: atom-one\n",
    "code-block-bg: true\n",
    "image: ESG.png\n",
    "categories:\n",
    "  - 网络爬虫\n",
    "code-fold: false\n",
    "html-math-method: katex\n",
    "jupyter: python3\n",
    "---"
   ]
  },
  {
   "attachments": {},
   "cell_type": "markdown",
   "id": "bc974081-2929-4443-a7f3-81a6fd257a71",
   "metadata": {},
   "source": [
    "新浪财经的 [ESG 评级指数](https://finance.sina.com.cn/esg/grade.shtml)页面分页利用了 JS 进行动态渲染，因为数据量不大，就利用 Selenium 来爬取。 \n",
    "<!-- TEASER_END -->"
   ]
  },
  {
   "cell_type": "code",
   "execution_count": 1,
   "id": "ab1167a2-68a7-43b4-b7a2-a6b4fd31e432",
   "metadata": {},
   "outputs": [],
   "source": [
    "from selenium import webdriver\n",
    "from selenium.webdriver import ChromeOptions\n",
    "from selenium.webdriver.common.by import By\n",
    "from selenium.webdriver.support import expected_conditions as EC\n",
    "from selenium.webdriver.support.wait import WebDriverWait\n",
    "from selenium.common.exceptions import StaleElementReferenceException\n",
    "\n",
    "import time\n",
    "import logging\n",
    "import pandas as pd\n",
    "\n",
    "from tqdm import tqdm"
   ]
  },
  {
   "cell_type": "markdown",
   "id": "d347942d-840c-47ea-84be-3ca816ca5f53",
   "metadata": {},
   "source": [
    "我们利用 CSS 选择器来解析所需数据，然后模拟点击下一页，循环解析。\n",
    "\n",
    "这里存在的一个问题是，点击下一页后，JS 渲染需要时间，页面可能还在加载，这时候 `browser.find_elements()` 会报错 `StaleElementReferenceException`。一个选择是在每次解析数据前做一个判断，判断所需数据是否已经加载出来了。而由于网站没有反爬措施，另一个选择是暴力循环，直到页面加载出来。"
   ]
  },
  {
   "cell_type": "code",
   "execution_count": 2,
   "id": "788ecb08-4fc0-4e64-a069-5d3f0b74809b",
   "metadata": {},
   "outputs": [],
   "source": [
    "def parse_data(page):\n",
    "    while True:\n",
    "        try:\n",
    "            # use CSS selectors to locate the data\n",
    "            lft_list = [\n",
    "                element.text for element in browser.find_elements(\n",
    "                    By.CSS_SELECTOR, '#lft-name-list i'\n",
    "                )\n",
    "            ]\n",
    "            esg_score = [\n",
    "                element.text for element in browser.find_elements(\n",
    "                    By.CSS_SELECTOR, 'div[data-key=\"esg_score\"] li'\n",
    "                )\n",
    "            ]\n",
    "            env_score = [\n",
    "                element.text for element in browser.find_elements(\n",
    "                    By.CSS_SELECTOR, 'div[data-key=\"env_score\"] li'\n",
    "                )\n",
    "            ]\n",
    "            social_score = [\n",
    "                element.text for element in browser.find_elements(\n",
    "                    By.CSS_SELECTOR, 'div[data-key=\"social_score\"] li'\n",
    "                )\n",
    "            ]\n",
    "            governance_score = [\n",
    "                element.text for element in browser.find_elements(\n",
    "                    By.CSS_SELECTOR, 'div[data-key=\"governance_score\"] li'\n",
    "                )\n",
    "            ]\n",
    "\n",
    "            data_dic = {\n",
    "                    \"lft_list\" : lft_list,\n",
    "                    \"esg_score\" : esg_score,\n",
    "                    \"env_score\" : env_score,\n",
    "                    \"social_score\" : social_score,\n",
    "                    \"governance_score\" : governance_score,\n",
    "            }\n",
    "            \n",
    "            if page < 510:\n",
    "            # locate the next page button and click\n",
    "                button = browser.find_element(By.CSS_SELECTOR, '.pages-rt')\n",
    "                button.click()\n",
    "            else:\n",
    "                pass\n",
    "        except Exception as e:\n",
    "            # waiting 0.2s for page refresh if the Exception is StaleElementReferenceException,\n",
    "            if isinstance(e, StaleElementReferenceException):\n",
    "                time.sleep(0.2)\n",
    "            else:\n",
    "                logging.warning(e)\n",
    "                break\n",
    "        else:\n",
    "            break\n",
    "    \n",
    "    return data_dic  "
   ]
  },
  {
   "cell_type": "code",
   "execution_count": 3,
   "id": "2f7ebe41-8586-4d71-860f-29f9ee98f826",
   "metadata": {},
   "outputs": [
    {
     "data": {
      "text/plain": [
       "{'identifier': '2'}"
      ]
     },
     "execution_count": 3,
     "metadata": {},
     "output_type": "execute_result"
    }
   ],
   "source": [
    "logging.basicConfig(\n",
    "    level=logging.INFO,\n",
    "    format='%(asctime)s - %(levelname)s: %(message)s'\n",
    ")\n",
    "\n",
    "# basic settings for headless browser and anti-detection\n",
    "option = ChromeOptions()\n",
    "option.add_argument('--headless')\n",
    "option.add_experimental_option('excludeSwitches', ['enable-automation'])\n",
    "option.add_experimental_option('useAutomationExtension', False)\n",
    "\n",
    "browser = webdriver.Chrome(options=option)\n",
    "browser.execute_cdp_cmd(\n",
    "    'Page.addScriptToEvaluateOnNewDocument', {\n",
    "    'source': 'Object.defineProperty(navigator, \"webdriver\", {get: () => undefined})'\n",
    "})"
   ]
  },
  {
   "cell_type": "code",
   "execution_count": 4,
   "id": "1d46ff06-60c0-45d2-82ac-c795cb40ea8a",
   "metadata": {},
   "outputs": [
    {
     "name": "stderr",
     "output_type": "stream",
     "text": [
      "2023-01-14 20:13:53,283 - WARNING: Message: \n",
      "\n",
      "100%|████████████████████████████████████████████████████████████████████████████████| 510/510 [14:00<00:00,  1.65s/it]\n"
     ]
    }
   ],
   "source": [
    "wait = WebDriverWait(browser, 5)\n",
    "res = []\n",
    "\n",
    "try:\n",
    "    browser.get('https://finance.sina.com.cn/esg/grade.shtml')\n",
    "    wait.until(\n",
    "        EC.visibility_of_all_elements_located((By.CSS_SELECTOR, '.lft-bodylist'))\n",
    "    )\n",
    "except Exception as e:\n",
    "    logging.warning(e)\n",
    "    \n",
    "for page in tqdm(range(1, 511)):\n",
    "    data_dic = parse_data(page)\n",
    "    res.append(data_dic)\n",
    "else:\n",
    "    browser.close()\n",
    "    browser.quit()"
   ]
  },
  {
   "cell_type": "code",
   "execution_count": 6,
   "id": "e0ecf969-c083-4408-b20c-ac1f850ec214",
   "metadata": {},
   "outputs": [],
   "source": [
    "ESG = pd.DataFrame(\n",
    "    columns=['lft_list', 'esg_score', 'env_score', 'social_score', 'governance_score']\n",
    ")\n",
    "for data_df in [pd.DataFrame(data_dic) for data_dic in res]:\n",
    "    ESG = ESG.append(data_df)"
   ]
  },
  {
   "cell_type": "code",
   "execution_count": 7,
   "id": "ef1cbbc3-6603-4b46-808e-bb82df1a48fb",
   "metadata": {},
   "outputs": [
    {
     "data": {
      "text/html": [
       "<div>\n",
       "<style scoped>\n",
       "    .dataframe tbody tr th:only-of-type {\n",
       "        vertical-align: middle;\n",
       "    }\n",
       "\n",
       "    .dataframe tbody tr th {\n",
       "        vertical-align: top;\n",
       "    }\n",
       "\n",
       "    .dataframe thead th {\n",
       "        text-align: right;\n",
       "    }\n",
       "</style>\n",
       "<table border=\"1\" class=\"dataframe\">\n",
       "  <thead>\n",
       "    <tr style=\"text-align: right;\">\n",
       "      <th></th>\n",
       "      <th>lft_list</th>\n",
       "      <th>esg_score</th>\n",
       "      <th>env_score</th>\n",
       "      <th>social_score</th>\n",
       "      <th>governance_score</th>\n",
       "    </tr>\n",
       "  </thead>\n",
       "  <tbody>\n",
       "    <tr>\n",
       "      <th>0</th>\n",
       "      <td>酒鬼酒</td>\n",
       "      <td>15.3(D)</td>\n",
       "      <td>3.4(D-)</td>\n",
       "      <td>10.3(D)</td>\n",
       "      <td>38.9(C)</td>\n",
       "    </tr>\n",
       "    <tr>\n",
       "      <th>1</th>\n",
       "      <td>耐斯系统</td>\n",
       "      <td>61.4(B)</td>\n",
       "      <td>38.9(C)</td>\n",
       "      <td>60.2(B)</td>\n",
       "      <td>69.3(B+)</td>\n",
       "    </tr>\n",
       "    <tr>\n",
       "      <th>2</th>\n",
       "      <td>SunCoke Energy</td>\n",
       "      <td>60.6(B)</td>\n",
       "      <td>68.9(B+)</td>\n",
       "      <td>56.6(B-)</td>\n",
       "      <td>55.1(B-)</td>\n",
       "    </tr>\n",
       "    <tr>\n",
       "      <th>3</th>\n",
       "      <td>普尔斯玛特</td>\n",
       "      <td>31.5(C-)</td>\n",
       "      <td>8.9(D)</td>\n",
       "      <td>40.8(C)</td>\n",
       "      <td>41.6(C)</td>\n",
       "    </tr>\n",
       "    <tr>\n",
       "      <th>4</th>\n",
       "      <td>新城发展</td>\n",
       "      <td>53.3(B-)</td>\n",
       "      <td>30.3(C-)</td>\n",
       "      <td>43.6(C+)</td>\n",
       "      <td>86.1(A)</td>\n",
       "    </tr>\n",
       "    <tr>\n",
       "      <th>6</th>\n",
       "      <td>华能国际电力股份</td>\n",
       "      <td>51.1(B-)</td>\n",
       "      <td>61.2(B)</td>\n",
       "      <td>41.1(C)</td>\n",
       "      <td>46.7(C+)</td>\n",
       "    </tr>\n",
       "    <tr>\n",
       "      <th>7</th>\n",
       "      <td>安徽皖通高速公路</td>\n",
       "      <td>44.7(C+)</td>\n",
       "      <td>51.2(B-)</td>\n",
       "      <td>41.1(C)</td>\n",
       "      <td>43.4(C+)</td>\n",
       "    </tr>\n",
       "    <tr>\n",
       "      <th>8</th>\n",
       "      <td>民生银行</td>\n",
       "      <td>47.4(C+)</td>\n",
       "      <td>37.0(C)</td>\n",
       "      <td>71.4(B+)</td>\n",
       "      <td>18.3(D+)</td>\n",
       "    </tr>\n",
       "    <tr>\n",
       "      <th>9</th>\n",
       "      <td>中远海能</td>\n",
       "      <td>57.1(B-)</td>\n",
       "      <td>61.1(B)</td>\n",
       "      <td>38.7(C)</td>\n",
       "      <td>78.8(A-)</td>\n",
       "    </tr>\n",
       "    <tr>\n",
       "      <th>0</th>\n",
       "      <td>中国石油化工股份</td>\n",
       "      <td>58.8(B)</td>\n",
       "      <td>69.9(B+)</td>\n",
       "      <td>50.3(B-)</td>\n",
       "      <td>57.9(B-)</td>\n",
       "    </tr>\n",
       "  </tbody>\n",
       "</table>\n",
       "</div>"
      ],
      "text/plain": [
       "         lft_list esg_score env_score social_score governance_score\n",
       "0             酒鬼酒   15.3(D)   3.4(D-)      10.3(D)          38.9(C)\n",
       "1            耐斯系统   61.4(B)   38.9(C)      60.2(B)         69.3(B+)\n",
       "2  SunCoke Energy   60.6(B)  68.9(B+)     56.6(B-)         55.1(B-)\n",
       "3           普尔斯玛特  31.5(C-)    8.9(D)      40.8(C)          41.6(C)\n",
       "4            新城发展  53.3(B-)  30.3(C-)     43.6(C+)          86.1(A)\n",
       "6        华能国际电力股份  51.1(B-)   61.2(B)      41.1(C)         46.7(C+)\n",
       "7        安徽皖通高速公路  44.7(C+)  51.2(B-)      41.1(C)         43.4(C+)\n",
       "8            民生银行  47.4(C+)   37.0(C)     71.4(B+)         18.3(D+)\n",
       "9            中远海能  57.1(B-)   61.1(B)      38.7(C)         78.8(A-)\n",
       "0        中国石油化工股份   58.8(B)  69.9(B+)     50.3(B-)         57.9(B-)"
      ]
     },
     "execution_count": 7,
     "metadata": {},
     "output_type": "execute_result"
    }
   ],
   "source": [
    "ESG.head(5).append(ESG.tail(5))"
   ]
  },
  {
   "cell_type": "code",
   "execution_count": 8,
   "id": "ffb06a59-91db-484b-9b46-265e21182537",
   "metadata": {},
   "outputs": [],
   "source": [
    "ESG.to_csv('ESG.csv', index=False)"
   ]
  }
 ],
 "metadata": {
  "kernelspec": {
   "display_name": "Python 3 (ipykernel)",
   "language": "python",
   "name": "python3"
  },
  "language_info": {
   "codemirror_mode": {
    "name": "ipython",
    "version": 3
   },
   "file_extension": ".py",
   "mimetype": "text/x-python",
   "name": "python",
   "nbconvert_exporter": "python",
   "pygments_lexer": "ipython3",
   "version": "3.9.1"
  },
  "nikola": {
   "category": "Web Scraping",
   "date": "2023-01-13",
   "slug": "scraping-sina-esg-grades",
   "tags": [
    "Python",
    "Selenium",
    "Jupyter-notebook",
    "爬虫"
   ],
   "title": "爬取新浪财经 ESG 评级指数"
  }
 },
 "nbformat": 4,
 "nbformat_minor": 5
}
