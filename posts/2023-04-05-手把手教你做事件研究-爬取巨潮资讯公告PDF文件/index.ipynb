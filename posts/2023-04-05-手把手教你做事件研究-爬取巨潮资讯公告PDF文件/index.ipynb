{
 "cells": [
  {
   "cell_type": "raw",
   "id": "28670edc",
   "metadata": {
    "vscode": {
     "languageId": "raw"
    }
   },
   "source": [
    "---\n",
    "title: \"手把手教你做事件研究-爬取巨潮资讯公告PDF文件\"\n",
    "author: Tom\n",
    "date: '2023-04-05'\n",
    "toc: false\n",
    "number-sections: false\n",
    "highlight-style: atom-one\n",
    "code-block-bg: true\n",
    "categories:\n",
    "  - 计量分析\n",
    "  - 网络爬虫\n",
    "image: event-study.png\n",
    "code-fold: false\n",
    "html-math-method: katex\n",
    "jupyter: python3\n",
    "---"
   ]
  },
  {
   "attachments": {},
   "cell_type": "markdown",
   "id": "61d6d879",
   "metadata": {},
   "source": [
    "这篇博客（[视频](https://www.bilibili.com/video/BV1co4y1p7Sf/?spm_id_from=333.999.0.0&vd_source=b4496ba547455f3db613a8f8de6bea01)）记录从巨潮资讯爬取相关公告的 PDF 文件。\n",
    "<!-- TEASER_END -->"
   ]
  },
  {
   "cell_type": "code",
   "execution_count": 1,
   "id": "86168f33-1af0-4a25-a34f-ad2f9cc611b7",
   "metadata": {},
   "outputs": [],
   "source": [
    "import logging\n",
    "import os\n",
    "import time\n",
    "import requests\n",
    "import pandas as pd\n",
    "from concurrent.futures import ThreadPoolExecutor"
   ]
  },
  {
   "cell_type": "code",
   "execution_count": 2,
   "id": "65bf3c92-6b88-4ee5-9fa4-53f0564dc3e9",
   "metadata": {},
   "outputs": [],
   "source": [
    "data = pd.read_csv('./data/final.csv', dtype={'secCode':str})"
   ]
  },
  {
   "cell_type": "code",
   "execution_count": 3,
   "id": "dd0c6a9c-1217-46e7-bd28-954e4ab97ef5",
   "metadata": {},
   "outputs": [
    {
     "data": {
      "text/html": [
       "<div>\n",
       "<style scoped>\n",
       "    .dataframe tbody tr th:only-of-type {\n",
       "        vertical-align: middle;\n",
       "    }\n",
       "\n",
       "    .dataframe tbody tr th {\n",
       "        vertical-align: top;\n",
       "    }\n",
       "\n",
       "    .dataframe thead th {\n",
       "        text-align: right;\n",
       "    }\n",
       "</style>\n",
       "<table border=\"1\" class=\"dataframe\">\n",
       "  <thead>\n",
       "    <tr style=\"text-align: right;\">\n",
       "      <th></th>\n",
       "      <th>secCode</th>\n",
       "      <th>secName</th>\n",
       "      <th>orgId</th>\n",
       "      <th>announcementTitle</th>\n",
       "      <th>announcementTime</th>\n",
       "      <th>adjunctUrl</th>\n",
       "      <th>announcementContent</th>\n",
       "    </tr>\n",
       "  </thead>\n",
       "  <tbody>\n",
       "    <tr>\n",
       "      <th>0</th>\n",
       "      <td>002152</td>\n",
       "      <td>广电运通</td>\n",
       "      <td>9900003423</td>\n",
       "      <td>广电运通：2016年4月1日投资者关系活动记录表</td>\n",
       "      <td>2016-04-06</td>\n",
       "      <td>http://static.cninfo.com.cn/finalpage/2016-04-...</td>\n",
       "      <td>9、公司提过有储备区块链技术，是否可以介绍？</td>\n",
       "    </tr>\n",
       "    <tr>\n",
       "      <th>1</th>\n",
       "      <td>002177</td>\n",
       "      <td>御银股份</td>\n",
       "      <td>9900003781</td>\n",
       "      <td>御银股份：2016年4月21日投资者关系活动记录表</td>\n",
       "      <td>2016-04-21</td>\n",
       "      <td>http://static.cninfo.com.cn/finalpage/2016-04-...</td>\n",
       "      <td>4、公司在区块链技术上未来有什么规划？</td>\n",
       "    </tr>\n",
       "    <tr>\n",
       "      <th>2</th>\n",
       "      <td>300386</td>\n",
       "      <td>飞天诚信</td>\n",
       "      <td>9900023058</td>\n",
       "      <td>飞天诚信：2016年4月22日投资者关系活动记录表</td>\n",
       "      <td>2016-04-25</td>\n",
       "      <td>http://static.cninfo.com.cn/finalpage/2016-04-...</td>\n",
       "      <td>公司在区块链部分如何布局?</td>\n",
       "    </tr>\n",
       "    <tr>\n",
       "      <th>3</th>\n",
       "      <td>300423</td>\n",
       "      <td>鲁亿通</td>\n",
       "      <td>9900028812</td>\n",
       "      <td>鲁亿通：关于本次交易前12个月内购买、出售资产的说明</td>\n",
       "      <td>2016-06-09</td>\n",
       "      <td>http://static.cninfo.com.cn/finalpage/2016-06-...</td>\n",
       "      <td>同时，上市公司拟采用定价发行的方式向纪法清、孔剑平、孙奇锋、王麒诚和中信建投-数贝泽华人工智...</td>\n",
       "    </tr>\n",
       "    <tr>\n",
       "      <th>4</th>\n",
       "      <td>000961</td>\n",
       "      <td>中南建设</td>\n",
       "      <td>gssz0000961</td>\n",
       "      <td>中南建设：关于本公司投资上海承泰信息科技股份有限公司的进展公告</td>\n",
       "      <td>2016-06-23</td>\n",
       "      <td>http://static.cninfo.com.cn/finalpage/2016-06-...</td>\n",
       "      <td>，以区块链技术处理玛娜花园不同版本的个人数据，形成对数据信息的安全保护。</td>\n",
       "    </tr>\n",
       "  </tbody>\n",
       "</table>\n",
       "</div>"
      ],
      "text/plain": [
       "  secCode secName        orgId                announcementTitle  \\\n",
       "0  002152    广电运通   9900003423         广电运通：2016年4月1日投资者关系活动记录表   \n",
       "1  002177    御银股份   9900003781        御银股份：2016年4月21日投资者关系活动记录表   \n",
       "2  300386    飞天诚信   9900023058        飞天诚信：2016年4月22日投资者关系活动记录表   \n",
       "3  300423     鲁亿通   9900028812       鲁亿通：关于本次交易前12个月内购买、出售资产的说明   \n",
       "4  000961    中南建设  gssz0000961  中南建设：关于本公司投资上海承泰信息科技股份有限公司的进展公告   \n",
       "\n",
       "  announcementTime                                         adjunctUrl  \\\n",
       "0       2016-04-06  http://static.cninfo.com.cn/finalpage/2016-04-...   \n",
       "1       2016-04-21  http://static.cninfo.com.cn/finalpage/2016-04-...   \n",
       "2       2016-04-25  http://static.cninfo.com.cn/finalpage/2016-04-...   \n",
       "3       2016-06-09  http://static.cninfo.com.cn/finalpage/2016-06-...   \n",
       "4       2016-06-23  http://static.cninfo.com.cn/finalpage/2016-06-...   \n",
       "\n",
       "                                 announcementContent  \n",
       "0                             9、公司提过有储备区块链技术，是否可以介绍？  \n",
       "1                                4、公司在区块链技术上未来有什么规划？  \n",
       "2                                      公司在区块链部分如何布局?  \n",
       "3  同时，上市公司拟采用定价发行的方式向纪法清、孔剑平、孙奇锋、王麒诚和中信建投-数贝泽华人工智...  \n",
       "4               ，以区块链技术处理玛娜花园不同版本的个人数据，形成对数据信息的安全保护。  "
      ]
     },
     "execution_count": 3,
     "metadata": {},
     "output_type": "execute_result"
    }
   ],
   "source": [
    "data.head()"
   ]
  },
  {
   "cell_type": "code",
   "execution_count": 4,
   "id": "398c73e5-3e81-41f9-85e9-97a13c49d374",
   "metadata": {},
   "outputs": [
    {
     "data": {
      "text/plain": [
       "'http://static.cninfo.com.cn/finalpage/2016-06-23/1202387515.PDF'"
      ]
     },
     "execution_count": 4,
     "metadata": {},
     "output_type": "execute_result"
    }
   ],
   "source": [
    "data.iloc[4,5]"
   ]
  },
  {
   "cell_type": "code",
   "execution_count": 5,
   "id": "c8421d3c-b24b-44e6-b411-ee18110d05e6",
   "metadata": {},
   "outputs": [],
   "source": [
    "def get_announcement(s, url, secName):\n",
    "    try:\n",
    "        r = s.get(url)\n",
    "        filename = str(secName) + \".pdf\" \n",
    "         # 注意要用'wb', b表示二进制，不要用'w'\n",
    "        with open(filename, 'wb') as f: \n",
    "             # r.content -> requests中的二进制响应内容：以字节的方式访问请求响应体\n",
    "            f.write(r.content)                                 \n",
    "    except Exception as e:\n",
    "        logging.warning(secName, e)\n",
    "        time.sleep(random.random()*5)"
   ]
  },
  {
   "cell_type": "code",
   "execution_count": 6,
   "id": "de49602e-8fe3-4882-b709-b344c8f121f1",
   "metadata": {},
   "outputs": [],
   "source": [
    "os.chdir(\"announcements\")\n",
    "url = data.loc[:, \"adjunctUrl\"]\n",
    "secName = data.loc[:, \"secName\"]\n",
    "\n",
    "with ThreadPoolExecutor(max_workers=8) as pool:\n",
    "    with requests.Session() as s:\n",
    "        futures = [pool.submit(get_announcement, s, url, secName) for url,secName in zip(url, secName)]"
   ]
  }
 ],
 "metadata": {
  "kernelspec": {
   "display_name": "Python 3 (ipykernel)",
   "language": "python",
   "name": "python3"
  },
  "language_info": {
   "codemirror_mode": {
    "name": "ipython",
    "version": 3
   },
   "file_extension": ".py",
   "mimetype": "text/x-python",
   "name": "python",
   "nbconvert_exporter": "python",
   "pygments_lexer": "ipython3",
   "version": "3.9.1"
  },
  "nikola": {
   "category": "Econometrics",
   "date": "2023-04-05",
   "slug": "event-study-tutorial-crawl-announcements-pdf",
   "tags": [
    "Python",
    "事件研究法",
    "巨潮资讯",
    "爬虫"
   ],
   "title": "手把手教你做事件研究——爬取巨潮资讯 PDF 文件"
  }
 },
 "nbformat": 4,
 "nbformat_minor": 5
}
