{
 "cells": [
  {
   "cell_type": "raw",
   "metadata": {
    "vscode": {
     "languageId": "raw"
    }
   },
   "source": [
    "---\n",
    "title: Pandas Tips：切分DataFrame\n",
    "author: Tom\n",
    "date: \"2024-09-12\"\n",
    "toc: true # 是否开启文章目录\n",
    "toc-depth: 2 # 目录层级深度，默认3级目录\n",
    "toc-expand: true # 目录是否展开\n",
    "code-block-bg: true # 代码块背景颜色\n",
    "highlight-style: atom-one # 代码块语法高亮风格\n",
    "categories:\n",
    "  - 数据分析\n",
    "image: code-snapshot.png\n",
    "code-fold: false # 代码块是否折叠\n",
    "cold-line-numbers: true # 代码块是否显示行数\n",
    "code-copy: true # true/false/hover\n",
    "draft: false # 博文是否为草稿，草稿不显示在博客中\n",
    "html-math-method: katex # latex 引擎，默认是 MathJax\n",
    "jupyter: python3\n",
    "---"
   ]
  },
  {
   "cell_type": "markdown",
   "metadata": {},
   "source": [
    "当我们面临一个数据量很大的 DataFrame 时，分而治之是一个很有效的选择，这就涉及到将 DataFrame 进行切分。比如我最近需要对 20 万个样本（保存在一个 DataFrame 里）计算 CAR，我的做法是将这个 DataFrame 切分成 20 个子 DataFrame，然后并行计算。\n",
    "\n",
    "使用 `np.array_split` 可以实现这个需求。`np.array_split` 函数签名如下：\n",
    "\n",
    "```Python\n",
    "np.array_split(ary, indices_or_sections, axis=0)\n",
    "```\n",
    "\n",
    "`indices_or_sections` 可以是一个整数，也可以是一个列表。当传入整数，若整数不能整除数组长度，即使数组不能均匀分割，`np.array_split` 也会通过将部分子数组稍微大一些来处理这种情况。比如："
   ]
  },
  {
   "cell_type": "code",
   "execution_count": 2,
   "metadata": {},
   "outputs": [],
   "source": [
    "import numpy as np\n",
    "import pandas as pd"
   ]
  },
  {
   "cell_type": "code",
   "execution_count": 3,
   "metadata": {},
   "outputs": [
    {
     "data": {
      "text/plain": [
       "[array([0, 1, 2, 3]), array([4, 5, 6]), array([7, 8, 9])]"
      ]
     },
     "execution_count": 3,
     "metadata": {},
     "output_type": "execute_result"
    }
   ],
   "source": [
    "arr = np.arange(10)\n",
    "# 将数组分割成 3 份，即使不能整除\n",
    "np.array_split(arr, 3)"
   ]
  },
  {
   "cell_type": "markdown",
   "metadata": {},
   "source": [
    "以上我们传入一个数组，长度为 10，`np.array_split` 自动帮我们切分为 3 个 array。如果我们传入一个二维的 array，`np.array_split` 同样可以切分为多个子 array。因此对于一个较大的 DataFrame，我们可以先转化为 array，然后利用 `np.array_split` 切分，再转化为 DataFrame。比如，定义这样一个函数："
   ]
  },
  {
   "cell_type": "code",
   "execution_count": 4,
   "metadata": {},
   "outputs": [],
   "source": [
    "def get_batches(df: pd.DataFrame, num_splits: int) -> list:\n",
    "    \"\"\"将一个 DataFrame 切分为给定数量的子 DataFrame\n",
    "    Args:\n",
    "        df (pd.DataFrame): 待切分 DataFrame\n",
    "        num_splits (int): 切分成多少个子 DataFrame \n",
    "        \n",
    "    Returns:\n",
    "        list: 子 DataFrame 列表\n",
    "    \"\"\" \n",
    "    batch_array_list = np.array_split(df.values, num_splits)\n",
    "    \n",
    "    return [pd.DataFrame(batch_array, columns=df.columns) for batch_array in batch_array_list]"
   ]
  },
  {
   "cell_type": "code",
   "execution_count": null,
   "metadata": {},
   "outputs": [],
   "source": []
  }
 ],
 "metadata": {
  "kernelspec": {
   "display_name": "Python 3",
   "language": "python",
   "name": "python3"
  },
  "language_info": {
   "codemirror_mode": {
    "name": "ipython",
    "version": 3
   },
   "file_extension": ".py",
   "mimetype": "text/x-python",
   "name": "python",
   "nbconvert_exporter": "python",
   "pygments_lexer": "ipython3",
   "version": "3.12.2"
  }
 },
 "nbformat": 4,
 "nbformat_minor": 2
}
