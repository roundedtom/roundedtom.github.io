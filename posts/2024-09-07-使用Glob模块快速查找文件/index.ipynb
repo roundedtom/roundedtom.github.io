{
 "cells": [
  {
   "cell_type": "raw",
   "metadata": {
    "vscode": {
     "languageId": "raw"
    }
   },
   "source": [
    "---\n",
    "title: 使用Glob模块快速查找文件 \n",
    "author: Tom\n",
    "date: \"2024-09-07\"\n",
    "toc: true # 是否开启文章目录\n",
    "toc-depth: 2 # 目录层级深度，默认3级目录\n",
    "toc-expand: true # 目录是否展开\n",
    "code-block-bg: true # 代码块背景颜色\n",
    "highlight-style: atom-one # 代码块语法高亮风格\n",
    "categories:\n",
    "  - Python\n",
    "image: folder.png\n",
    "code-fold: false # 代码块是否折叠\n",
    "cold-line-numbers: true # 代码块是否显示行数\n",
    "code-copy: true # true/false/hover\n",
    "draft: false # 博文是否为草稿，草稿不显示在博客中\n",
    "html-math-method: katex # latex 引擎，默认是 MathJax\n",
    "jupyter: python3\n",
    "---"
   ]
  },
  {
   "cell_type": "markdown",
   "metadata": {},
   "source": [
    "在进行数据分析时，常常会遇到需要遍历读取某个文件夹中的文件的情况。以文本分析为例，我们可能需要依次读取文件夹中的所有 txt 文件，并进行相应处理。\n",
    "\n",
    "![folder](./folder.png)\n",
    "\n",
    "比如上图中的文件夹，要实现读取上市公司 2018 年管理层讨论与分析的文本，一种方式是使用 `os.listdir()` 获取所有文件名，然后构造文件路径："
   ]
  },
  {
   "cell_type": "code",
   "execution_count": 1,
   "metadata": {},
   "outputs": [],
   "source": [
    "import os\n",
    "\n",
    "file_path = \"./管理层讨论与分析/2018/文本/\"\n",
    "file_name_list = os.listdir(file_path)\n",
    "\n",
    "for file in file_name_list:\n",
    "    full_path = f\"./管理层讨论与分析/2018/文本/{file}\"\n",
    "    with open(full_path, \"r\", encoding='utf-8') as f:\n",
    "        annual_content = f.read()\n",
    "        pass"
   ]
  },
  {
   "cell_type": "markdown",
   "metadata": {},
   "source": [
    "但是这样显然不够优雅😁，[`glob`](https://docs.python.org/3/library/glob.html) 模块可以很好的解决这个问题！`glob` 是 Python 标准库中的一个模块，用于查找符合特定模式的文件或目录名。它通过使用 Unix 风格的路径模式匹配规则来搜索文件系统，常用于批量查找符合某种特定条件的文件。比如，要获取 2018 年上市公司管理层讨论与分析的 txt 文件路径，使用 `glob` 可以这样完成："
   ]
  },
  {
   "cell_type": "code",
   "execution_count": 2,
   "metadata": {},
   "outputs": [
    {
     "data": {
      "text/plain": [
       "['./管理层讨论与分析/2018/文本/000001_2018-12-31.txt',\n",
       " './管理层讨论与分析/2018/文本/000002_2018-12-31.txt',\n",
       " './管理层讨论与分析/2018/文本/000002_2018-06-30.txt',\n",
       " './管理层讨论与分析/2018/文本/000004_2018-06-30.txt',\n",
       " './管理层讨论与分析/2018/文本/000001_2018-06-30.txt']"
      ]
     },
     "execution_count": 2,
     "metadata": {},
     "output_type": "execute_result"
    }
   ],
   "source": [
    "import glob\n",
    "\n",
    "glob.glob(\"./管理层讨论与分析/2018/文本/*.txt\")"
   ]
  },
  {
   "cell_type": "markdown",
   "metadata": {},
   "source": [
    "可以发现，`glob` 大大便利了文件和目录查找 。`glob` 也支持常用的通配符：\n",
    "\n",
    "- `*`：匹配任意数量的字符，包括空字符。比如，`*.txt` 匹配所有 .txt 文件。\n",
    "- `?`：匹配单个字符。比如，`file?.txt` 匹配 file1.txt 和 file2.txt，但不匹配 file10.txt。\n",
    "- `[]`：匹配指定字符范围。比如，`file[0-9].txt` 匹配 file1.txt 到 file9.txt，但不匹配 file10.txt。\n",
    "\n",
    "# `glob.glob()`\n",
    "\n",
    "`glob()` 是 `glob` 模块中常用的函数之一，另一个是 `iglob()`。其参数如下：\n",
    "\n",
    "```Python\n",
    "glob.glob(pathname, *, root_dir=None, dir_fd=None, recursive=False, include_hidden=False)\n",
    "```\n",
    "\n",
    "`recursive` 参数表示是否递归查找。比如，要查找当前目录下的所有 txt 文件："
   ]
  },
  {
   "cell_type": "code",
   "execution_count": 9,
   "metadata": {},
   "outputs": [
    {
     "data": {
      "text/plain": [
       "['./管理层讨论与分析/管理层讨论与分析_字段说明.txt',\n",
       " './管理层讨论与分析/2020/管理层讨论与分析_字段说明.txt',\n",
       " './管理层讨论与分析/2020/文本/000002_2020-12-31.txt',\n",
       " './管理层讨论与分析/2020/文本/000001_2020-12-31.txt',\n",
       " './管理层讨论与分析/2020/文本/000001_2020-06-30.txt',\n",
       " './管理层讨论与分析/2020/文本/000004_2020-06-30.txt',\n",
       " './管理层讨论与分析/2020/文本/000002_2020-06-30.txt',\n",
       " './管理层讨论与分析/2019/管理层讨论与分析_字段说明.txt',\n",
       " './管理层讨论与分析/2019/文本/000001_2019-06-30.txt',\n",
       " './管理层讨论与分析/2019/文本/000001_2019-12-31.txt',\n",
       " './管理层讨论与分析/2019/文本/000004_2019-06-30.txt',\n",
       " './管理层讨论与分析/2019/文本/000002_2019-12-31.txt',\n",
       " './管理层讨论与分析/2019/文本/000002_2019-06-30.txt',\n",
       " './管理层讨论与分析/2021/管理层讨论与分析_字段说明.txt',\n",
       " './管理层讨论与分析/2021/文本/000001_2021-12-31.txt',\n",
       " './管理层讨论与分析/2021/文本/000002_2021-12-31.txt',\n",
       " './管理层讨论与分析/2021/文本/000005_2021-06-30.txt',\n",
       " './管理层讨论与分析/2021/文本/000004_2021-12-31.txt',\n",
       " './管理层讨论与分析/2021/文本/000004_2021-06-30.txt',\n",
       " './管理层讨论与分析/2022/管理层讨论与分析_字段说明.txt',\n",
       " './管理层讨论与分析/2022/文本/000002_2022-06-30.txt',\n",
       " './管理层讨论与分析/2022/文本/000004_2022-12-31.txt',\n",
       " './管理层讨论与分析/2022/文本/000005_2022-12-31.txt',\n",
       " './管理层讨论与分析/2022/文本/000002_2022-12-31.txt',\n",
       " './管理层讨论与分析/2022/文本/000001_2022-12-31.txt',\n",
       " './管理层讨论与分析/2018/管理层讨论与分析_字段说明.txt',\n",
       " './管理层讨论与分析/2018/文本/000001_2018-12-31.txt',\n",
       " './管理层讨论与分析/2018/文本/000002_2018-12-31.txt',\n",
       " './管理层讨论与分析/2018/文本/000002_2018-06-30.txt',\n",
       " './管理层讨论与分析/2018/文本/000004_2018-06-30.txt',\n",
       " './管理层讨论与分析/2018/文本/000001_2018-06-30.txt']"
      ]
     },
     "execution_count": 9,
     "metadata": {},
     "output_type": "execute_result"
    }
   ],
   "source": [
    "glob.glob(\"./管理层讨论与分析/**/*.txt\", recursive=True)"
   ]
  },
  {
   "cell_type": "markdown",
   "metadata": {},
   "source": [
    "# `glob.iglob()`\n",
    "\n",
    "```Python\n",
    "glob.iglob(pathname, *, root_dir=None, dir_fd=None, recursive=False, include_hidden=False)\n",
    "```\n",
    "\n",
    "`iglob()` 与 `glob()` 类似，但返回的是一个生成器，适合处理文件数量较多的情况，因为它不会一次性将结果加载到内存中。"
   ]
  }
 ],
 "metadata": {
  "kernelspec": {
   "display_name": "Python 3",
   "language": "python",
   "name": "python3"
  },
  "language_info": {
   "codemirror_mode": {
    "name": "ipython",
    "version": 3
   },
   "file_extension": ".py",
   "mimetype": "text/x-python",
   "name": "python",
   "nbconvert_exporter": "python",
   "pygments_lexer": "ipython3",
   "version": "3.12.2"
  }
 },
 "nbformat": 4,
 "nbformat_minor": 2
}
