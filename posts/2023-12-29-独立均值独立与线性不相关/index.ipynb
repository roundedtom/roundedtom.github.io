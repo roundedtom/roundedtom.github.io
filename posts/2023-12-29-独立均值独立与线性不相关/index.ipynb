{
 "cells": [
  {
   "cell_type": "raw",
   "metadata": {
    "vscode": {
     "languageId": "raw"
    }
   },
   "source": [
    "---\n",
    "title: 独立、均值独立与线性不相关\n",
    "description: 独立、均值独立与线性不相关之间的区别和联系。\n",
    "author: Tom\n",
    "date: \"2023-12-29\"\n",
    "toc: true  # 是否开启文章目录\n",
    "toc-depth: 2 # 目录层级深度，默认3级目录\n",
    "code-block-bg: true  # 代码块背景颜色\n",
    "highlight-style: atom-one  # 代码块语法高亮风格\n",
    "categories: \n",
    "  - 概率与统计\n",
    "code-fold: false  # 代码块是否折叠\n",
    "cold-line-numbers: true # 代码块是否显示行数\n",
    "code-copy: true # true/false/hover\n",
    "draft: false  # 博文是否为草稿，草稿不显示在博客中\n",
    "html-math-method: katex # latex 引擎，默认是 MathJax\n",
    "jupyter: python3\n",
    "---"
   ]
  },
  {
   "cell_type": "markdown",
   "metadata": {},
   "source": [
    "# 独立\n",
    "\n",
    "两个随机变量 $x$ 和 $y$，满足 $f(x) \\times f(y) = f(x,y)$，则称随机变量 $x$ 和 $y$ 独立。从图像上来理解，就是对任意的 $x$，$f_{Y|X}(y|x)$ 都是相同的，所以 $x$ 不会带来任何新的信息。 \n",
    "\n",
    "![独立](./image/独立.png){width=100%}"
   ]
  },
  {
   "cell_type": "markdown",
   "metadata": {},
   "source": [
    "# 均值独立\n",
    "\n",
    "对随机变量 $x$ 和 $y$，若 $E(y|x) = E(y)$，则称随机变量 $y$ 均值独立于随机变量 $x$。从图像上来理解，就是任意给定 $x$，$f_{Y|X}$ 的条件期望是一样的，分布可以不一样。\n",
    "\n",
    "![均值独立](./image/均值独立.png){width=100%}"
   ]
  },
  {
   "cell_type": "markdown",
   "metadata": {},
   "source": [
    "# 线性不相关\n",
    "\n",
    "若随机变量 $x$ 和 $y$ 协方差为 0，则称随机变量 $x$ 和 $y$ 线性无关。\n",
    "\n",
    "# 三者间的关系\n",
    "\n",
    "从条件强度来说，**独立 > 均值独立 > 线性不相关**。\n",
    "\n",
    "## 引理 1：迭代期望法则\n",
    "\n",
    "$$\n",
    "E[Y] = E[E[Y|X]]\n",
    "$$\n",
    "\n",
    "证明：\n",
    "\n",
    "$$\n",
    "\\begin{split}\n",
    "E[E[Y|X]] &= \\int{\\int{y f_{Y|X}(y|x)dy}f_X(x)dx} \\\\\n",
    "&= \\int{\\int{y \\frac{f_{X,Y}(x,y)}{f_{X}(x)} dy}f_X(x)dx} \\\\\n",
    "&= \\int{\\int{y f_{X,Y}(x,y)dy}dx} \\\\\n",
    "&= \\int{\\int{f_{X,Y}(x,y)dx}ydy} \\\\\n",
    "&= \\int{y f_{Y}(y)dy} \\\\\n",
    "&= E[Y]\n",
    "\\end{split}\n",
    "$$\n",
    "\n",
    "## 引理 2：协方差与条件期望法则\n",
    "\n",
    "$$\n",
    "Cov[X,Y] = Cov[X, E[Y|X]]\n",
    "$$\n",
    "\n",
    "证明：\n",
    "\n",
    "$$\n",
    "\\begin{split}\n",
    "Cov[X, E[Y|X]] &= E[XE[Y|X]] - E[X]E[E[Y|X]] \\\\\n",
    "&= \\int{xf_{X}(x) \\int{yf_{Y|X}(y|x)dy}dx} - E[X]E[Y] \\\\\n",
    "&= \\int{xf_{X}(x) \\int{y \\frac{f_{X,Y}(x,y)}{f_{X}(x)}dy}dx} - E[X]E[Y] \\\\\n",
    "&= \\int{\\int{xy f_{X,Y}(x,y)dy}dx} - E[X]E[Y] \\\\\n",
    "&= E[XY] - E[X]E[Y] \\\\\n",
    "&= Cov[X,Y]\n",
    "\\end{split}\n",
    "$$\n",
    "\n",
    "## 由均值独立推出线性不相关\n",
    "\n",
    "$$\n",
    "\\begin{split}\n",
    "Cov(X,Y) &= E[XY] - E[X]E[Y] \\\\\n",
    "&= E[E[XY|X]] - E[X]E[Y] \\\\\n",
    "&= E[XE[Y|X]] - E[X]E[Y] \\\\\n",
    "&= E[XE[Y]] - E[X]E[Y] \\\\\n",
    "&= E[X]E[Y] - E[X]E[Y] \\\\\n",
    "&= 0\n",
    "\\end{split}\n",
    "$$"
   ]
  }
 ],
 "metadata": {
  "kernelspec": {
   "display_name": "Python 3",
   "language": "python",
   "name": "python3"
  },
  "language_info": {
   "name": "python",
   "version": "3.9.1"
  }
 },
 "nbformat": 4,
 "nbformat_minor": 2
}
