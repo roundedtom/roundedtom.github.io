{
 "cells": [
  {
   "cell_type": "raw",
   "metadata": {
    "vscode": {
     "languageId": "raw"
    }
   },
   "source": [
    "---\n",
    "title: 供应链共同审计的样本处理\n",
    "author: Tom\n",
    "date: \"2025-01-04\"\n",
    "toc: true # 是否开启文章目录\n",
    "toc-depth: 3 # 目录层级深度，默认3级目录\n",
    "toc-expand: true # 目录是否展开\n",
    "code-block-bg: true # 代码块背景颜色\n",
    "highlight-style: atom-one # 代码块语法高亮风格\n",
    "categories:\n",
    "  - 实证数据\n",
    "image: annual.png\n",
    "code-fold: false # 代码块是否折叠\n",
    "cold-line-numbers: true # 代码块是否显示行数\n",
    "code-copy: true # true/false/hover\n",
    "draft: false # 博文是否为草稿，草稿不显示在博客中\n",
    "html-math-method: katex # latex 引擎，默认是 MathJax\n",
    "jupyter: python3\n",
    "---"
   ]
  },
  {
   "cell_type": "markdown",
   "metadata": {},
   "source": [
    "供应链共同审计是指供应链上多个企业共享同一审计机构或同一审计资源。由于供应链上下游企业之间存在高度的依赖性和协作需求，选择共享审计可以降低审计成本、提高审计效率。此外，相关研究表明，供应链共同审计在减少审计风险与审计费用、降低公司财务重述与提升审计质量、提高资本配置效率以及提升劳动收入份额等方面发挥着积极的影响作用。\n",
    "\n",
    "供应链共同审计的定义有两种角度，一种是供应链上两家企业年报审计时选择同一家会计师事务所（杨清香，2015），另一种是签字注册会计师为同一人。第一种定义的要求相对更宽松，能获得更多的样本，大多数研究也都选择第一种。本文也选择第一种定义来构造共同审计的样本。\n",
    "\n",
    "本文选取的样本期间为 2001-2023 年，以披露了前五大客户（供应商）的 A 股上市公司为初始样本。在此基础上，剔除金融行业的样本、剔除交易状态异常的样本、剔除上市未满一年的样本、剔除变量缺失的样本，借鉴杨清香等（2015）的研究，若目标企业在一个会计年度内与其前五大供应商或客户中至少一家聘用同一家会计师事务所，则判定为共同审计。最终获得与上游供应商共同审计 98 个样本，与下游客户共同审计 153 个样本，混合样本 243 个。\n",
    "\n",
    "# 前五大供应商数据\n",
    "\n",
    "**数据来源**：国泰安-公司研究系列-供应链研究-上市公司供应链信息-前五大供应商信息表，选择剔除 ST、金融业（证监会 2012 版分类）的全部 A 股\n",
    "\n",
    "- 年份整理：2001-2023\n",
    "- 剔除客户为非上市公司的样本。非上市公司未披露审计机构相关信息，无法判断是否共同审计"
   ]
  },
  {
   "cell_type": "code",
   "execution_count": 1,
   "metadata": {},
   "outputs": [],
   "source": [
    "import pandas as pd\n",
    "import numpy as np"
   ]
  },
  {
   "cell_type": "code",
   "execution_count": 2,
   "metadata": {},
   "outputs": [],
   "source": [
    "raw_data = pd.read_excel(\n",
    "    \"./Data/前五大供应商采购信息表2001-2023/SC_TopFivePurchaseInfo.xlsx\",\n",
    "    dtype={\"Symbol\": str, \"BusinessSymbol\": str},\n",
    ")"
   ]
  },
  {
   "cell_type": "code",
   "execution_count": 3,
   "metadata": {},
   "outputs": [
    {
     "data": {
      "text/html": [
       "<div>\n",
       "<style scoped>\n",
       "    .dataframe tbody tr th:only-of-type {\n",
       "        vertical-align: middle;\n",
       "    }\n",
       "\n",
       "    .dataframe tbody tr th {\n",
       "        vertical-align: top;\n",
       "    }\n",
       "\n",
       "    .dataframe thead th {\n",
       "        text-align: right;\n",
       "    }\n",
       "</style>\n",
       "<table border=\"1\" class=\"dataframe\">\n",
       "  <thead>\n",
       "    <tr style=\"text-align: right;\">\n",
       "      <th></th>\n",
       "      <th>Symbol</th>\n",
       "      <th>EndDate</th>\n",
       "      <th>StateTypeCode</th>\n",
       "      <th>Rank</th>\n",
       "      <th>BusinessInstitutionID</th>\n",
       "      <th>InstitutionName</th>\n",
       "      <th>IsListed</th>\n",
       "      <th>BusinessSymbol</th>\n",
       "      <th>ProportionOfTotalValue</th>\n",
       "    </tr>\n",
       "  </thead>\n",
       "  <tbody>\n",
       "    <tr>\n",
       "      <th>0</th>\n",
       "      <td>000002</td>\n",
       "      <td>2001-12-31</td>\n",
       "      <td>1</td>\n",
       "      <td>6</td>\n",
       "      <td>NaN</td>\n",
       "      <td>合计</td>\n",
       "      <td>N</td>\n",
       "      <td>NaN</td>\n",
       "      <td>27.48</td>\n",
       "    </tr>\n",
       "    <tr>\n",
       "      <th>1</th>\n",
       "      <td>000002</td>\n",
       "      <td>2002-12-31</td>\n",
       "      <td>1</td>\n",
       "      <td>6</td>\n",
       "      <td>NaN</td>\n",
       "      <td>合计</td>\n",
       "      <td>N</td>\n",
       "      <td>NaN</td>\n",
       "      <td>22.67</td>\n",
       "    </tr>\n",
       "    <tr>\n",
       "      <th>2</th>\n",
       "      <td>000002</td>\n",
       "      <td>2003-12-31</td>\n",
       "      <td>1</td>\n",
       "      <td>6</td>\n",
       "      <td>NaN</td>\n",
       "      <td>合计</td>\n",
       "      <td>N</td>\n",
       "      <td>NaN</td>\n",
       "      <td>26.96</td>\n",
       "    </tr>\n",
       "    <tr>\n",
       "      <th>3</th>\n",
       "      <td>000002</td>\n",
       "      <td>2004-12-31</td>\n",
       "      <td>1</td>\n",
       "      <td>6</td>\n",
       "      <td>NaN</td>\n",
       "      <td>合计</td>\n",
       "      <td>N</td>\n",
       "      <td>NaN</td>\n",
       "      <td>26.46</td>\n",
       "    </tr>\n",
       "    <tr>\n",
       "      <th>4</th>\n",
       "      <td>000002</td>\n",
       "      <td>2005-12-31</td>\n",
       "      <td>1</td>\n",
       "      <td>6</td>\n",
       "      <td>NaN</td>\n",
       "      <td>合计</td>\n",
       "      <td>N</td>\n",
       "      <td>NaN</td>\n",
       "      <td>21.70</td>\n",
       "    </tr>\n",
       "  </tbody>\n",
       "</table>\n",
       "</div>"
      ],
      "text/plain": [
       "   Symbol     EndDate  StateTypeCode  Rank  BusinessInstitutionID  \\\n",
       "0  000002  2001-12-31              1     6                    NaN   \n",
       "1  000002  2002-12-31              1     6                    NaN   \n",
       "2  000002  2003-12-31              1     6                    NaN   \n",
       "3  000002  2004-12-31              1     6                    NaN   \n",
       "4  000002  2005-12-31              1     6                    NaN   \n",
       "\n",
       "  InstitutionName IsListed BusinessSymbol  ProportionOfTotalValue  \n",
       "0              合计        N            NaN                   27.48  \n",
       "1              合计        N            NaN                   22.67  \n",
       "2              合计        N            NaN                   26.96  \n",
       "3              合计        N            NaN                   26.46  \n",
       "4              合计        N            NaN                   21.70  "
      ]
     },
     "execution_count": 3,
     "metadata": {},
     "output_type": "execute_result"
    }
   ],
   "source": [
    "raw_data.head()"
   ]
  },
  {
   "cell_type": "code",
   "execution_count": 4,
   "metadata": {},
   "outputs": [],
   "source": [
    "# 选择供应商为上市公司的样本，供应商为上市公司才能获取审计信息\n",
    "data_cleaned_by_supplier = raw_data.query(\"IsListed == 'Y'\")\n",
    "# 考虑合并报表\n",
    "data_cleaned_by_stateTypeCode = data_cleaned_by_supplier.query(\n",
    "    \"StateTypeCode == 1\"\n",
    ").reset_index(drop=True)\n",
    "\n",
    "data_cleaned_by_stateTypeCode = data_cleaned_by_stateTypeCode.loc[\n",
    "    :, [\"Symbol\", \"EndDate\", \"BusinessSymbol\", \"ProportionOfTotalValue\"]\n",
    "]"
   ]
  },
  {
   "cell_type": "code",
   "execution_count": 5,
   "metadata": {},
   "outputs": [],
   "source": [
    "# 个股信息数据\n",
    "stock_info = pd.read_excel(\n",
    "    \"./Data/上市公司基本信息年度表2000-2023/STK_LISTEDCOINFOANL.xlsx\",\n",
    "    dtype={\"Symbol\": str, \"PROVINCECODE\": str, \"CITYCODE\": str},\n",
    ")"
   ]
  },
  {
   "cell_type": "code",
   "execution_count": 6,
   "metadata": {},
   "outputs": [
    {
     "data": {
      "text/html": [
       "<div>\n",
       "<style scoped>\n",
       "    .dataframe tbody tr th:only-of-type {\n",
       "        vertical-align: middle;\n",
       "    }\n",
       "\n",
       "    .dataframe tbody tr th {\n",
       "        vertical-align: top;\n",
       "    }\n",
       "\n",
       "    .dataframe thead th {\n",
       "        text-align: right;\n",
       "    }\n",
       "</style>\n",
       "<table border=\"1\" class=\"dataframe\">\n",
       "  <thead>\n",
       "    <tr style=\"text-align: right;\">\n",
       "      <th></th>\n",
       "      <th>Symbol</th>\n",
       "      <th>ShortName</th>\n",
       "      <th>EndDate</th>\n",
       "      <th>ListedCoID</th>\n",
       "      <th>IndustryName</th>\n",
       "      <th>IndustryCode</th>\n",
       "      <th>PROVINCECODE</th>\n",
       "      <th>CITYCODE</th>\n",
       "      <th>LISTINGSTATE</th>\n",
       "    </tr>\n",
       "  </thead>\n",
       "  <tbody>\n",
       "    <tr>\n",
       "      <th>0</th>\n",
       "      <td>000002</td>\n",
       "      <td>深万科A</td>\n",
       "      <td>2000-12-31</td>\n",
       "      <td>101775</td>\n",
       "      <td>房地产开发与经营业</td>\n",
       "      <td>J01</td>\n",
       "      <td>440000</td>\n",
       "      <td>440300</td>\n",
       "      <td>正常上市</td>\n",
       "    </tr>\n",
       "    <tr>\n",
       "      <th>1</th>\n",
       "      <td>000002</td>\n",
       "      <td>深万科A</td>\n",
       "      <td>2001-12-31</td>\n",
       "      <td>101775</td>\n",
       "      <td>房地产开发与经营业</td>\n",
       "      <td>J01</td>\n",
       "      <td>440000</td>\n",
       "      <td>440300</td>\n",
       "      <td>正常上市</td>\n",
       "    </tr>\n",
       "    <tr>\n",
       "      <th>2</th>\n",
       "      <td>000002</td>\n",
       "      <td>万科A</td>\n",
       "      <td>2002-12-31</td>\n",
       "      <td>101775</td>\n",
       "      <td>房地产开发与经营业</td>\n",
       "      <td>J01</td>\n",
       "      <td>440000</td>\n",
       "      <td>440300</td>\n",
       "      <td>正常上市</td>\n",
       "    </tr>\n",
       "    <tr>\n",
       "      <th>3</th>\n",
       "      <td>000002</td>\n",
       "      <td>万科A</td>\n",
       "      <td>2003-12-31</td>\n",
       "      <td>101775</td>\n",
       "      <td>房地产开发与经营业</td>\n",
       "      <td>J01</td>\n",
       "      <td>440000</td>\n",
       "      <td>440300</td>\n",
       "      <td>正常上市</td>\n",
       "    </tr>\n",
       "    <tr>\n",
       "      <th>4</th>\n",
       "      <td>000002</td>\n",
       "      <td>万科A</td>\n",
       "      <td>2004-12-31</td>\n",
       "      <td>101775</td>\n",
       "      <td>房地产开发与经营业</td>\n",
       "      <td>J01</td>\n",
       "      <td>440000</td>\n",
       "      <td>440300</td>\n",
       "      <td>正常上市</td>\n",
       "    </tr>\n",
       "  </tbody>\n",
       "</table>\n",
       "</div>"
      ],
      "text/plain": [
       "   Symbol ShortName     EndDate  ListedCoID IndustryName IndustryCode  \\\n",
       "0  000002      深万科A  2000-12-31      101775    房地产开发与经营业          J01   \n",
       "1  000002      深万科A  2001-12-31      101775    房地产开发与经营业          J01   \n",
       "2  000002       万科A  2002-12-31      101775    房地产开发与经营业          J01   \n",
       "3  000002       万科A  2003-12-31      101775    房地产开发与经营业          J01   \n",
       "4  000002       万科A  2004-12-31      101775    房地产开发与经营业          J01   \n",
       "\n",
       "  PROVINCECODE CITYCODE LISTINGSTATE  \n",
       "0       440000   440300         正常上市  \n",
       "1       440000   440300         正常上市  \n",
       "2       440000   440300         正常上市  \n",
       "3       440000   440300         正常上市  \n",
       "4       440000   440300         正常上市  "
      ]
     },
     "execution_count": 6,
     "metadata": {},
     "output_type": "execute_result"
    }
   ],
   "source": [
    "stock_info.head()"
   ]
  },
  {
   "cell_type": "code",
   "execution_count": 7,
   "metadata": {},
   "outputs": [],
   "source": [
    "stock_info = stock_info.loc[:, [\"Symbol\", \"EndDate\", \"IndustryCode\", \"LISTINGSTATE\"]]\n",
    "# 合并 data_cleaned_by_stateTypeCode 与 stock_info 获取行业和上市情况信息\n",
    "sample_merged_with_info = data_cleaned_by_stateTypeCode.merge(\n",
    "    stock_info, how=\"left\", on=[\"Symbol\", \"EndDate\"]\n",
    ")"
   ]
  },
  {
   "cell_type": "code",
   "execution_count": 8,
   "metadata": {},
   "outputs": [
    {
     "data": {
      "text/html": [
       "<div>\n",
       "<style scoped>\n",
       "    .dataframe tbody tr th:only-of-type {\n",
       "        vertical-align: middle;\n",
       "    }\n",
       "\n",
       "    .dataframe tbody tr th {\n",
       "        vertical-align: top;\n",
       "    }\n",
       "\n",
       "    .dataframe thead th {\n",
       "        text-align: right;\n",
       "    }\n",
       "</style>\n",
       "<table border=\"1\" class=\"dataframe\">\n",
       "  <thead>\n",
       "    <tr style=\"text-align: right;\">\n",
       "      <th></th>\n",
       "      <th>Symbol</th>\n",
       "      <th>EndDate</th>\n",
       "      <th>BusinessSymbol</th>\n",
       "      <th>ProportionOfTotalValue</th>\n",
       "      <th>IndustryCode</th>\n",
       "      <th>LISTINGSTATE</th>\n",
       "    </tr>\n",
       "  </thead>\n",
       "  <tbody>\n",
       "    <tr>\n",
       "      <th>0</th>\n",
       "      <td>000004</td>\n",
       "      <td>2012-12-31</td>\n",
       "      <td>301093</td>\n",
       "      <td>4.30</td>\n",
       "      <td>C27</td>\n",
       "      <td>正常上市</td>\n",
       "    </tr>\n",
       "    <tr>\n",
       "      <th>1</th>\n",
       "      <td>000004</td>\n",
       "      <td>2014-12-31</td>\n",
       "      <td>002099</td>\n",
       "      <td>2.08</td>\n",
       "      <td>C27</td>\n",
       "      <td>正常上市</td>\n",
       "    </tr>\n",
       "    <tr>\n",
       "      <th>2</th>\n",
       "      <td>000004</td>\n",
       "      <td>2016-12-31</td>\n",
       "      <td>301093</td>\n",
       "      <td>1.09</td>\n",
       "      <td>C27</td>\n",
       "      <td>正常上市</td>\n",
       "    </tr>\n",
       "    <tr>\n",
       "      <th>3</th>\n",
       "      <td>000009</td>\n",
       "      <td>2013-12-31</td>\n",
       "      <td>600998</td>\n",
       "      <td>2.48</td>\n",
       "      <td>S90</td>\n",
       "      <td>正常上市</td>\n",
       "    </tr>\n",
       "    <tr>\n",
       "      <th>4</th>\n",
       "      <td>000010</td>\n",
       "      <td>2012-12-31</td>\n",
       "      <td>300820</td>\n",
       "      <td>8.04</td>\n",
       "      <td>C35</td>\n",
       "      <td>正常上市</td>\n",
       "    </tr>\n",
       "  </tbody>\n",
       "</table>\n",
       "</div>"
      ],
      "text/plain": [
       "   Symbol     EndDate BusinessSymbol  ProportionOfTotalValue IndustryCode  \\\n",
       "0  000004  2012-12-31         301093                    4.30          C27   \n",
       "1  000004  2014-12-31         002099                    2.08          C27   \n",
       "2  000004  2016-12-31         301093                    1.09          C27   \n",
       "3  000009  2013-12-31         600998                    2.48          S90   \n",
       "4  000010  2012-12-31         300820                    8.04          C35   \n",
       "\n",
       "  LISTINGSTATE  \n",
       "0         正常上市  \n",
       "1         正常上市  \n",
       "2         正常上市  \n",
       "3         正常上市  \n",
       "4         正常上市  "
      ]
     },
     "execution_count": 8,
     "metadata": {},
     "output_type": "execute_result"
    }
   ],
   "source": [
    "sample_merged_with_info.head()"
   ]
  },
  {
   "cell_type": "code",
   "execution_count": 9,
   "metadata": {},
   "outputs": [],
   "source": [
    "# 剔除 ST *ST\n",
    "sample_excluded_ST = sample_merged_with_info.query(\n",
    "    \"LISTINGSTATE == '正常上市'\"\n",
    ").reset_index(drop=True)"
   ]
  },
  {
   "cell_type": "code",
   "execution_count": 10,
   "metadata": {},
   "outputs": [],
   "source": [
    "# 处理上游供应商的股票代码\n",
    "# 部分供应商同时在香港和内地上市、发行 B 股、在美国上市等等，BusinessSymbol 代码需要处理\n",
    "def filter_ticker(ticker):\n",
    "    return len(ticker) == 6"
   ]
  },
  {
   "cell_type": "code",
   "execution_count": 11,
   "metadata": {},
   "outputs": [],
   "source": [
    "# 查看 BusinessSymbol 非 6 位的样本\n",
    "business_symbol = sample_excluded_ST.loc[\n",
    "    ~sample_excluded_ST.BusinessSymbol.apply(lambda ticker: filter_ticker(ticker)), :\n",
    "].BusinessSymbol.unique()"
   ]
  },
  {
   "cell_type": "code",
   "execution_count": 12,
   "metadata": {},
   "outputs": [
    {
     "data": {
      "text/plain": [
       "array(['000898;00347', '02318;601318;82318', '00338;600688;SHI', '01606',\n",
       "       '01099', '01066', '000338;02338', '01898;601898', '01072;600875',\n",
       "       '01786', '06869;601869', '000761;200761', '02600;601600;ACH',\n",
       "       '02088', '00570', '688223;JKS', '01171;600188', '002202;02208',\n",
       "       '00857;601857;PTR', '000030;200030', '01727', '01800;601800',\n",
       "       '01033;600871', '00386;600028;SNP', '01133', '000581;200581',\n",
       "       '02607;601607', '02196;600196', '00564;601717', '02170', '04333',\n",
       "       '600819;900918', '000012;200012', 'SGOC', '02899;601899',\n",
       "       '06655;600801', 'CCIH', '00358;600362', 'JASO', '000553;200553',\n",
       "       '03988;04619;601988', '000726;200726', '002594;01211;81211',\n",
       "       '03996;601868', '02727;601727', '600776;900941', 'LDK', '00438',\n",
       "       '01055;600029;ZNH', '00753;601111;AIRC', '00670;600115;CEA',\n",
       "       '600221;900945', '00981;688981;SMI', '01385;688385',\n",
       "       '00728;601728;CHA', '600663;900932', 'JD', '01527', '002460;01772',\n",
       "       'VNET', '5FI', '01053;601005', '00323;600808', '06881;601881',\n",
       "       '870800;920016', '06127;603127', '01088;601088', '000157;01157',\n",
       "       '01354', '01398;04620;601398', '09988;89988;BABA', '00992;80992',\n",
       "       '06066;601066', '01186;601186', '002466;09696', '00568;002490',\n",
       "       '000333;00300', '000756;00719', '06188', '000521;200521', '04335'],\n",
       "      dtype=object)"
      ]
     },
     "execution_count": 12,
     "metadata": {},
     "output_type": "execute_result"
    }
   ],
   "source": [
    "business_symbol"
   ]
  },
  {
   "cell_type": "code",
   "execution_count": 13,
   "metadata": {},
   "outputs": [],
   "source": [
    "# 获取 A 股列表\n",
    "stocks_array = stock_info.Symbol.unique()\n",
    "\n",
    "\n",
    "# 如果客户 BusinessSymbol 列中的代码在股票列表中，则返回 True\n",
    "def filter_customer(symbol):\n",
    "    symbol_list = symbol.split(\";\")\n",
    "    for s in symbol_list:\n",
    "        if s in stocks_array:\n",
    "            return True\n",
    "    return False"
   ]
  },
  {
   "cell_type": "code",
   "execution_count": 14,
   "metadata": {},
   "outputs": [],
   "source": [
    "sample_excluded = sample_excluded_ST.loc[\n",
    "    sample_excluded_ST.BusinessSymbol.apply(lambda symbol: filter_customer(symbol)), :\n",
    "].reset_index(drop=True)"
   ]
  },
  {
   "cell_type": "code",
   "execution_count": 15,
   "metadata": {},
   "outputs": [
    {
     "name": "stdout",
     "output_type": "stream",
     "text": [
      "<class 'pandas.core.frame.DataFrame'>\n",
      "RangeIndex: 1791 entries, 0 to 1790\n",
      "Data columns (total 6 columns):\n",
      " #   Column                  Non-Null Count  Dtype  \n",
      "---  ------                  --------------  -----  \n",
      " 0   Symbol                  1791 non-null   object \n",
      " 1   EndDate                 1791 non-null   object \n",
      " 2   BusinessSymbol          1791 non-null   object \n",
      " 3   ProportionOfTotalValue  1773 non-null   float64\n",
      " 4   IndustryCode            1791 non-null   object \n",
      " 5   LISTINGSTATE            1791 non-null   object \n",
      "dtypes: float64(1), object(5)\n",
      "memory usage: 84.1+ KB\n"
     ]
    }
   ],
   "source": [
    "sample_excluded.info()"
   ]
  },
  {
   "cell_type": "code",
   "execution_count": 16,
   "metadata": {},
   "outputs": [],
   "source": [
    "# 处理 BusinessSymbol\n",
    "def customer(symbol):\n",
    "    symbol_list = symbol.split(\";\")\n",
    "    for s in symbol_list:\n",
    "        if s in stocks_array:\n",
    "            return s"
   ]
  },
  {
   "cell_type": "code",
   "execution_count": 17,
   "metadata": {},
   "outputs": [],
   "source": [
    "sample_excluded.loc[:, \"BusinessTicker\"] = sample_excluded.BusinessSymbol.apply(\n",
    "    lambda symbol: customer(symbol)\n",
    ")"
   ]
  },
  {
   "cell_type": "code",
   "execution_count": 18,
   "metadata": {},
   "outputs": [],
   "source": [
    "final = sample_excluded.drop(columns=[\"BusinessSymbol\"])"
   ]
  },
  {
   "cell_type": "code",
   "execution_count": 19,
   "metadata": {},
   "outputs": [],
   "source": [
    "final.to_csv(\"./Result/上市公司前五大供应商数据.csv\", index=False)"
   ]
  },
  {
   "cell_type": "markdown",
   "metadata": {},
   "source": [
    "# 前五大客户数据 "
   ]
  },
  {
   "cell_type": "code",
   "execution_count": 20,
   "metadata": {},
   "outputs": [],
   "source": [
    "raw_data = pd.read_excel(\n",
    "    \"./Data/前五大客户销售信息表2001-2023/SC_TopFiveSaleInfo.xlsx\",\n",
    "    dtype={\"Symbol\": str, \"BusinessSymbol\": str},\n",
    ")"
   ]
  },
  {
   "cell_type": "code",
   "execution_count": 21,
   "metadata": {},
   "outputs": [],
   "source": [
    "# 选择客户为上市公司的样本，客户为上市公司才能获取审计信息\n",
    "data_cleaned_by_customer = raw_data.query(\"IsListed == 'Y'\")\n",
    "\n",
    "# 考虑合并报表\n",
    "data_cleaned_by_stateTypeCode = data_cleaned_by_customer.query(\n",
    "    \"StateTypeCode == 1\"\n",
    ").reset_index(drop=True)\n",
    "\n",
    "data_cleaned_by_stateTypeCode = data_cleaned_by_stateTypeCode.loc[\n",
    "    :, [\"Symbol\", \"EndDate\", \"BusinessSymbol\", \"ProportionOfTotalValue\"]\n",
    "]"
   ]
  },
  {
   "cell_type": "code",
   "execution_count": 22,
   "metadata": {},
   "outputs": [],
   "source": [
    "# 合并 data_cleaned_by_stateTypeCode 与 stock_info 获取行业和上市情况信息\n",
    "sample_merged_with_info = data_cleaned_by_stateTypeCode.merge(\n",
    "    stock_info, how=\"left\", on=[\"Symbol\", \"EndDate\"], validate=\"m:1\"\n",
    ")"
   ]
  },
  {
   "cell_type": "code",
   "execution_count": 23,
   "metadata": {},
   "outputs": [],
   "source": [
    "# 剔除 ST *ST\n",
    "sample_excluded_ST = sample_merged_with_info.query(\n",
    "    \"LISTINGSTATE == '正常上市'\"\n",
    ").reset_index(drop=True)"
   ]
  },
  {
   "cell_type": "code",
   "execution_count": 24,
   "metadata": {},
   "outputs": [],
   "source": [
    "sample_excluded = sample_excluded_ST.loc[\n",
    "    sample_excluded_ST.BusinessSymbol.apply(lambda symbol: filter_customer(symbol)), :\n",
    "].reset_index(drop=True)"
   ]
  },
  {
   "cell_type": "code",
   "execution_count": 25,
   "metadata": {},
   "outputs": [],
   "source": [
    "sample_excluded.loc[:, \"BusinessTicker\"] = sample_excluded.BusinessSymbol.apply(\n",
    "    lambda symbol: customer(symbol)\n",
    ")"
   ]
  },
  {
   "cell_type": "code",
   "execution_count": 26,
   "metadata": {},
   "outputs": [],
   "source": [
    "final = sample_excluded.drop(columns=[\"BusinessSymbol\"])\n",
    "final.to_csv(\"./Result/上市公司前五大客户数据.csv\", index=False)"
   ]
  },
  {
   "cell_type": "markdown",
   "metadata": {},
   "source": [
    "# 与上游供应商共同审计"
   ]
  },
  {
   "cell_type": "code",
   "execution_count": 27,
   "metadata": {},
   "outputs": [],
   "source": [
    "audit_data = pd.read_excel(\n",
    "    \"./Data/审计意见表文件1990-2023/FIN_Audit.xlsx\",\n",
    "    dtype={\"Stkcd\": str, \"DadtunitID\": str},\n",
    ")"
   ]
  },
  {
   "cell_type": "code",
   "execution_count": 28,
   "metadata": {},
   "outputs": [],
   "source": [
    "audit_data.rename(\n",
    "    columns={\"Stkcd\": \"Symbol\", \"Dcost\": \"auditFee\", \"DadtunitID\": \"auditID\"},\n",
    "    inplace=True,\n",
    ")\n",
    "\n",
    "# 原数据中有半年报的数据，需要剔除\n",
    "audit_data.loc[:, \"month\"] = (\n",
    "    audit_data.Accper.str.split(\"-\", expand=True).iloc[:, 1].astype(\"int64\")\n",
    ")\n",
    "audit_data_dropna = (\n",
    "    audit_data.query(\"month == 12\").dropna(subset=[\"auditID\"]).reset_index(drop=True)\n",
    ")"
   ]
  },
  {
   "cell_type": "code",
   "execution_count": 29,
   "metadata": {},
   "outputs": [
    {
     "data": {
      "text/html": [
       "<div>\n",
       "<style scoped>\n",
       "    .dataframe tbody tr th:only-of-type {\n",
       "        vertical-align: middle;\n",
       "    }\n",
       "\n",
       "    .dataframe tbody tr th {\n",
       "        vertical-align: top;\n",
       "    }\n",
       "\n",
       "    .dataframe thead th {\n",
       "        text-align: right;\n",
       "    }\n",
       "</style>\n",
       "<table border=\"1\" class=\"dataframe\">\n",
       "  <thead>\n",
       "    <tr style=\"text-align: right;\">\n",
       "      <th></th>\n",
       "      <th>Symbol</th>\n",
       "      <th>Stknme</th>\n",
       "      <th>Accper</th>\n",
       "      <th>Annodt</th>\n",
       "      <th>Dadtunit</th>\n",
       "      <th>auditFee</th>\n",
       "      <th>auditID</th>\n",
       "      <th>month</th>\n",
       "    </tr>\n",
       "  </thead>\n",
       "  <tbody>\n",
       "  </tbody>\n",
       "</table>\n",
       "</div>"
      ],
      "text/plain": [
       "Empty DataFrame\n",
       "Columns: [Symbol, Stknme, Accper, Annodt, Dadtunit, auditFee, auditID, month]\n",
       "Index: []"
      ]
     },
     "execution_count": 29,
     "metadata": {},
     "output_type": "execute_result"
    }
   ],
   "source": [
    "# 看看是否有重复值\n",
    "audit_data_dropna.loc[audit_data_dropna.loc[:, [\"Symbol\", \"Accper\"]].duplicated(), :]"
   ]
  },
  {
   "cell_type": "code",
   "execution_count": 30,
   "metadata": {},
   "outputs": [],
   "source": [
    "audit = audit_data_dropna.loc[:, [\"Symbol\", \"Accper\", \"auditID\", \"auditFee\"]]"
   ]
  },
  {
   "cell_type": "code",
   "execution_count": 31,
   "metadata": {},
   "outputs": [
    {
     "data": {
      "text/html": [
       "<div>\n",
       "<style scoped>\n",
       "    .dataframe tbody tr th:only-of-type {\n",
       "        vertical-align: middle;\n",
       "    }\n",
       "\n",
       "    .dataframe tbody tr th {\n",
       "        vertical-align: top;\n",
       "    }\n",
       "\n",
       "    .dataframe thead th {\n",
       "        text-align: right;\n",
       "    }\n",
       "</style>\n",
       "<table border=\"1\" class=\"dataframe\">\n",
       "  <thead>\n",
       "    <tr style=\"text-align: right;\">\n",
       "      <th></th>\n",
       "      <th>Symbol</th>\n",
       "      <th>EndDate</th>\n",
       "      <th>auditID</th>\n",
       "      <th>auditFee</th>\n",
       "    </tr>\n",
       "  </thead>\n",
       "  <tbody>\n",
       "    <tr>\n",
       "      <th>0</th>\n",
       "      <td>000002</td>\n",
       "      <td>1992-12-31</td>\n",
       "      <td>107286</td>\n",
       "      <td>NaN</td>\n",
       "    </tr>\n",
       "    <tr>\n",
       "      <th>1</th>\n",
       "      <td>000002</td>\n",
       "      <td>1993-12-31</td>\n",
       "      <td>107286</td>\n",
       "      <td>NaN</td>\n",
       "    </tr>\n",
       "    <tr>\n",
       "      <th>2</th>\n",
       "      <td>000002</td>\n",
       "      <td>1994-12-31</td>\n",
       "      <td>107286</td>\n",
       "      <td>NaN</td>\n",
       "    </tr>\n",
       "    <tr>\n",
       "      <th>3</th>\n",
       "      <td>000002</td>\n",
       "      <td>1995-12-31</td>\n",
       "      <td>107286</td>\n",
       "      <td>NaN</td>\n",
       "    </tr>\n",
       "    <tr>\n",
       "      <th>4</th>\n",
       "      <td>000002</td>\n",
       "      <td>1996-12-31</td>\n",
       "      <td>107286</td>\n",
       "      <td>NaN</td>\n",
       "    </tr>\n",
       "  </tbody>\n",
       "</table>\n",
       "</div>"
      ],
      "text/plain": [
       "   Symbol     EndDate auditID  auditFee\n",
       "0  000002  1992-12-31  107286       NaN\n",
       "1  000002  1993-12-31  107286       NaN\n",
       "2  000002  1994-12-31  107286       NaN\n",
       "3  000002  1995-12-31  107286       NaN\n",
       "4  000002  1996-12-31  107286       NaN"
      ]
     },
     "execution_count": 31,
     "metadata": {},
     "output_type": "execute_result"
    }
   ],
   "source": [
    "audit.rename(columns={\"Accper\": \"EndDate\"}, inplace=True)\n",
    "audit.head()"
   ]
  },
  {
   "cell_type": "code",
   "execution_count": 32,
   "metadata": {},
   "outputs": [],
   "source": [
    "sample_raw = pd.read_csv(\n",
    "    \"./Result/上市公司前五大供应商数据.csv\",\n",
    "    dtype={\n",
    "        \"Symbol\": str,\n",
    "        \"BusinessTicker\": str,\n",
    "    },\n",
    ")"
   ]
  },
  {
   "cell_type": "code",
   "execution_count": 33,
   "metadata": {},
   "outputs": [],
   "source": [
    "# 给上市公司样本添加审计师信息\n",
    "sample_with_audit = sample_raw.merge(\n",
    "    audit, how=\"left\", on=[\"Symbol\", \"EndDate\"], validate=\"m:1\"\n",
    ")"
   ]
  },
  {
   "cell_type": "code",
   "execution_count": 34,
   "metadata": {},
   "outputs": [],
   "source": [
    "# 给供应商添加审计师信息\n",
    "data_with_audit = sample_with_audit.merge(\n",
    "    audit,\n",
    "    how=\"left\",\n",
    "    left_on=[\"BusinessTicker\", \"EndDate\"],\n",
    "    right_on=[\"Symbol\", \"EndDate\"],\n",
    "    suffixes=(\"_sample\", \"_supplier\"),\n",
    ")"
   ]
  },
  {
   "cell_type": "code",
   "execution_count": 35,
   "metadata": {},
   "outputs": [],
   "source": [
    "# 剔除审计师事务所信息缺失的样本\n",
    "data_excluded_na = data_with_audit.dropna(\n",
    "    how=\"any\", subset=[\"auditID_sample\", \"auditID_supplier\"], axis=0\n",
    ").reset_index(drop=True)"
   ]
  },
  {
   "cell_type": "code",
   "execution_count": 36,
   "metadata": {},
   "outputs": [],
   "source": [
    "data_excluded_na.loc[:, \"audit_common_temp\"] = (\n",
    "    data_excluded_na.auditID_sample == data_excluded_na.auditID_supplier\n",
    ")\n",
    "\n",
    "sample = data_excluded_na.groupby([\"Symbol_sample\", \"EndDate\", \"IndustryCode\"]).agg(\n",
    "    {\n",
    "        \"audit_common_temp\": \"sum\",\n",
    "    }\n",
    ")\n",
    "\n",
    "sample.reset_index(inplace=True)\n",
    "sample.loc[:, \"共同审计\"] = [0 if i == 0 else 1 for i in sample.audit_common_temp]\n",
    "sample.drop(columns=[\"audit_common_temp\"], inplace=True)"
   ]
  },
  {
   "cell_type": "code",
   "execution_count": 37,
   "metadata": {},
   "outputs": [
    {
     "name": "stdout",
     "output_type": "stream",
     "text": [
      "<class 'pandas.core.frame.DataFrame'>\n",
      "RangeIndex: 1188 entries, 0 to 1187\n",
      "Data columns (total 4 columns):\n",
      " #   Column         Non-Null Count  Dtype \n",
      "---  ------         --------------  ----- \n",
      " 0   Symbol_sample  1188 non-null   object\n",
      " 1   EndDate        1188 non-null   object\n",
      " 2   IndustryCode   1188 non-null   object\n",
      " 3   共同审计           1188 non-null   int64 \n",
      "dtypes: int64(1), object(3)\n",
      "memory usage: 37.2+ KB\n"
     ]
    }
   ],
   "source": [
    "sample.info()"
   ]
  },
  {
   "cell_type": "code",
   "execution_count": 38,
   "metadata": {},
   "outputs": [
    {
     "data": {
      "text/plain": [
       "98"
      ]
     },
     "execution_count": 38,
     "metadata": {},
     "output_type": "execute_result"
    }
   ],
   "source": [
    "sum(sample.loc[:, \"共同审计\"])"
   ]
  },
  {
   "cell_type": "code",
   "execution_count": 39,
   "metadata": {},
   "outputs": [],
   "source": [
    "sample.to_csv(\"./Result/与上游供应商共同审计.csv\", index=False)"
   ]
  },
  {
   "cell_type": "markdown",
   "metadata": {},
   "source": [
    "# 与下游客户共同审计"
   ]
  },
  {
   "cell_type": "code",
   "execution_count": 40,
   "metadata": {},
   "outputs": [],
   "source": [
    "sample_raw = pd.read_csv(\n",
    "    \"./Result/上市公司前五大客户数据.csv\",\n",
    "    dtype={\n",
    "        \"Symbol\": str,\n",
    "        \"BusinessTicker\": str,\n",
    "    },\n",
    ")"
   ]
  },
  {
   "cell_type": "code",
   "execution_count": 41,
   "metadata": {},
   "outputs": [],
   "source": [
    "# 给上市公司样本添加审计师信息\n",
    "sample_with_audit = sample_raw.merge(\n",
    "    audit, how=\"left\", on=[\"Symbol\", \"EndDate\"], validate=\"m:1\"\n",
    ")\n",
    "\n",
    "# 给客户添加审计师信息\n",
    "data_with_audit = sample_with_audit.merge(\n",
    "    audit,\n",
    "    how=\"left\",\n",
    "    left_on=[\"BusinessTicker\", \"EndDate\"],\n",
    "    right_on=[\"Symbol\", \"EndDate\"],\n",
    "    suffixes=(\"_sample\", \"_customer\"),\n",
    ")"
   ]
  },
  {
   "cell_type": "code",
   "execution_count": 42,
   "metadata": {},
   "outputs": [],
   "source": [
    "# 剔除审计师事务所信息缺失的样本\n",
    "data_excluded_na = data_with_audit.dropna(\n",
    "    how=\"any\", subset=[\"auditID_sample\", \"auditID_customer\"], axis=0\n",
    ").reset_index(drop=True)\n",
    "\n",
    "data_excluded_na.loc[:, \"audit_common_temp\"] = (\n",
    "    data_excluded_na.auditID_sample == data_excluded_na.auditID_customer\n",
    ")\n",
    "\n",
    "sample = data_excluded_na.groupby([\"Symbol_sample\", \"EndDate\", \"IndustryCode\"]).agg(\n",
    "    {\n",
    "        \"audit_common_temp\": \"sum\",\n",
    "    }\n",
    ")"
   ]
  },
  {
   "cell_type": "code",
   "execution_count": 43,
   "metadata": {},
   "outputs": [],
   "source": [
    "sample.reset_index(inplace=True)\n",
    "sample.loc[:, \"共同审计\"] = [0 if i == 0 else 1 for i in sample.audit_common_temp]\n",
    "sample.drop(columns=[\"audit_common_temp\"], inplace=True)"
   ]
  },
  {
   "cell_type": "code",
   "execution_count": 44,
   "metadata": {},
   "outputs": [
    {
     "name": "stdout",
     "output_type": "stream",
     "text": [
      "<class 'pandas.core.frame.DataFrame'>\n",
      "RangeIndex: 1576 entries, 0 to 1575\n",
      "Data columns (total 4 columns):\n",
      " #   Column         Non-Null Count  Dtype \n",
      "---  ------         --------------  ----- \n",
      " 0   Symbol_sample  1576 non-null   object\n",
      " 1   EndDate        1576 non-null   object\n",
      " 2   IndustryCode   1576 non-null   object\n",
      " 3   共同审计           1576 non-null   int64 \n",
      "dtypes: int64(1), object(3)\n",
      "memory usage: 49.4+ KB\n"
     ]
    }
   ],
   "source": [
    "sample.info()"
   ]
  },
  {
   "cell_type": "code",
   "execution_count": 45,
   "metadata": {},
   "outputs": [
    {
     "data": {
      "text/plain": [
       "153"
      ]
     },
     "execution_count": 45,
     "metadata": {},
     "output_type": "execute_result"
    }
   ],
   "source": [
    "sum(sample.loc[:, \"共同审计\"])"
   ]
  },
  {
   "cell_type": "code",
   "execution_count": 46,
   "metadata": {},
   "outputs": [],
   "source": [
    "sample.to_csv(\"./Result/与下游客户共同审计.csv\", index=False)"
   ]
  },
  {
   "cell_type": "markdown",
   "metadata": {},
   "source": [
    "# 混合样本"
   ]
  },
  {
   "cell_type": "code",
   "execution_count": 47,
   "metadata": {},
   "outputs": [],
   "source": [
    "sales_sample = pd.read_csv(\n",
    "    \"./Result/与下游客户共同审计.csv\", dtype={\"Symbol_sample\": str}\n",
    ")\n",
    "supplier_sample = pd.read_csv(\n",
    "    \"./Result/与上游供应商共同审计.csv\", dtype={\"Symbol_sample\": str}\n",
    ")"
   ]
  },
  {
   "cell_type": "code",
   "execution_count": 48,
   "metadata": {},
   "outputs": [],
   "source": [
    "# 将与上游供应商共同审计的样本和下游客户共同审计的样本合并在一起，涉及到一个问题：有的样本既与上游供应商共同审计，又与下游客户共同审计。\n",
    "sample = sales_sample.merge(\n",
    "    supplier_sample,\n",
    "    how=\"outer\",\n",
    "    on=[\"Symbol_sample\", \"EndDate\", \"IndustryCode\"],\n",
    "    suffixes=[\"_customer\", \"_supplier\"],\n",
    ")\n",
    "\n",
    "sample.fillna(0, inplace=True)"
   ]
  },
  {
   "cell_type": "code",
   "execution_count": 49,
   "metadata": {},
   "outputs": [
    {
     "data": {
      "text/html": [
       "<div>\n",
       "<style scoped>\n",
       "    .dataframe tbody tr th:only-of-type {\n",
       "        vertical-align: middle;\n",
       "    }\n",
       "\n",
       "    .dataframe tbody tr th {\n",
       "        vertical-align: top;\n",
       "    }\n",
       "\n",
       "    .dataframe thead th {\n",
       "        text-align: right;\n",
       "    }\n",
       "</style>\n",
       "<table border=\"1\" class=\"dataframe\">\n",
       "  <thead>\n",
       "    <tr style=\"text-align: right;\">\n",
       "      <th></th>\n",
       "      <th>Symbol_sample</th>\n",
       "      <th>EndDate</th>\n",
       "      <th>IndustryCode</th>\n",
       "      <th>共同审计_customer</th>\n",
       "      <th>共同审计_supplier</th>\n",
       "    </tr>\n",
       "  </thead>\n",
       "  <tbody>\n",
       "    <tr>\n",
       "      <th>0</th>\n",
       "      <td>000004</td>\n",
       "      <td>2014-12-31</td>\n",
       "      <td>C27</td>\n",
       "      <td>0.0</td>\n",
       "      <td>0.0</td>\n",
       "    </tr>\n",
       "    <tr>\n",
       "      <th>1</th>\n",
       "      <td>000006</td>\n",
       "      <td>2014-12-31</td>\n",
       "      <td>K70</td>\n",
       "      <td>0.0</td>\n",
       "      <td>0.0</td>\n",
       "    </tr>\n",
       "    <tr>\n",
       "      <th>2</th>\n",
       "      <td>000006</td>\n",
       "      <td>2015-12-31</td>\n",
       "      <td>K70</td>\n",
       "      <td>1.0</td>\n",
       "      <td>0.0</td>\n",
       "    </tr>\n",
       "    <tr>\n",
       "      <th>3</th>\n",
       "      <td>000007</td>\n",
       "      <td>2017-12-31</td>\n",
       "      <td>K70</td>\n",
       "      <td>0.0</td>\n",
       "      <td>0.0</td>\n",
       "    </tr>\n",
       "    <tr>\n",
       "      <th>4</th>\n",
       "      <td>000007</td>\n",
       "      <td>2018-12-31</td>\n",
       "      <td>K70</td>\n",
       "      <td>0.0</td>\n",
       "      <td>0.0</td>\n",
       "    </tr>\n",
       "    <tr>\n",
       "      <th>...</th>\n",
       "      <td>...</td>\n",
       "      <td>...</td>\n",
       "      <td>...</td>\n",
       "      <td>...</td>\n",
       "      <td>...</td>\n",
       "    </tr>\n",
       "    <tr>\n",
       "      <th>2552</th>\n",
       "      <td>873223</td>\n",
       "      <td>2023-12-31</td>\n",
       "      <td>C34</td>\n",
       "      <td>0.0</td>\n",
       "      <td>0.0</td>\n",
       "    </tr>\n",
       "    <tr>\n",
       "      <th>2553</th>\n",
       "      <td>873305</td>\n",
       "      <td>2022-12-31</td>\n",
       "      <td>C33</td>\n",
       "      <td>0.0</td>\n",
       "      <td>0.0</td>\n",
       "    </tr>\n",
       "    <tr>\n",
       "      <th>2554</th>\n",
       "      <td>873305</td>\n",
       "      <td>2023-12-31</td>\n",
       "      <td>C33</td>\n",
       "      <td>0.0</td>\n",
       "      <td>0.0</td>\n",
       "    </tr>\n",
       "    <tr>\n",
       "      <th>2555</th>\n",
       "      <td>873593</td>\n",
       "      <td>2023-12-31</td>\n",
       "      <td>C38</td>\n",
       "      <td>0.0</td>\n",
       "      <td>0.0</td>\n",
       "    </tr>\n",
       "    <tr>\n",
       "      <th>2556</th>\n",
       "      <td>873726</td>\n",
       "      <td>2023-12-31</td>\n",
       "      <td>C35</td>\n",
       "      <td>0.0</td>\n",
       "      <td>0.0</td>\n",
       "    </tr>\n",
       "  </tbody>\n",
       "</table>\n",
       "<p>2557 rows × 5 columns</p>\n",
       "</div>"
      ],
      "text/plain": [
       "     Symbol_sample     EndDate IndustryCode  共同审计_customer  共同审计_supplier\n",
       "0           000004  2014-12-31          C27            0.0            0.0\n",
       "1           000006  2014-12-31          K70            0.0            0.0\n",
       "2           000006  2015-12-31          K70            1.0            0.0\n",
       "3           000007  2017-12-31          K70            0.0            0.0\n",
       "4           000007  2018-12-31          K70            0.0            0.0\n",
       "...            ...         ...          ...            ...            ...\n",
       "2552        873223  2023-12-31          C34            0.0            0.0\n",
       "2553        873305  2022-12-31          C33            0.0            0.0\n",
       "2554        873305  2023-12-31          C33            0.0            0.0\n",
       "2555        873593  2023-12-31          C38            0.0            0.0\n",
       "2556        873726  2023-12-31          C35            0.0            0.0\n",
       "\n",
       "[2557 rows x 5 columns]"
      ]
     },
     "execution_count": 49,
     "metadata": {},
     "output_type": "execute_result"
    }
   ],
   "source": [
    "sample"
   ]
  },
  {
   "cell_type": "code",
   "execution_count": 50,
   "metadata": {},
   "outputs": [],
   "source": [
    "sample.loc[:, \"auditCom_temp\"] = (\n",
    "    sample.loc[:, \"共同审计_customer\"] + sample.loc[:, \"共同审计_supplier\"]\n",
    ")\n",
    "sample = sample.loc[:, [\"Symbol_sample\", \"EndDate\", \"IndustryCode\", \"auditCom_temp\"]]"
   ]
  },
  {
   "cell_type": "code",
   "execution_count": 51,
   "metadata": {},
   "outputs": [
    {
     "data": {
      "text/html": [
       "<div>\n",
       "<style scoped>\n",
       "    .dataframe tbody tr th:only-of-type {\n",
       "        vertical-align: middle;\n",
       "    }\n",
       "\n",
       "    .dataframe tbody tr th {\n",
       "        vertical-align: top;\n",
       "    }\n",
       "\n",
       "    .dataframe thead th {\n",
       "        text-align: right;\n",
       "    }\n",
       "</style>\n",
       "<table border=\"1\" class=\"dataframe\">\n",
       "  <thead>\n",
       "    <tr style=\"text-align: right;\">\n",
       "      <th></th>\n",
       "      <th>Symbol_sample</th>\n",
       "      <th>EndDate</th>\n",
       "      <th>IndustryCode</th>\n",
       "      <th>auditCom_temp</th>\n",
       "      <th>auditCom</th>\n",
       "    </tr>\n",
       "  </thead>\n",
       "  <tbody>\n",
       "    <tr>\n",
       "      <th>2</th>\n",
       "      <td>000006</td>\n",
       "      <td>2015-12-31</td>\n",
       "      <td>K70</td>\n",
       "      <td>1.0</td>\n",
       "      <td>1</td>\n",
       "    </tr>\n",
       "    <tr>\n",
       "      <th>5</th>\n",
       "      <td>000009</td>\n",
       "      <td>2012-12-31</td>\n",
       "      <td>S90</td>\n",
       "      <td>1.0</td>\n",
       "      <td>1</td>\n",
       "    </tr>\n",
       "    <tr>\n",
       "      <th>6</th>\n",
       "      <td>000009</td>\n",
       "      <td>2013-12-31</td>\n",
       "      <td>S90</td>\n",
       "      <td>2.0</td>\n",
       "      <td>1</td>\n",
       "    </tr>\n",
       "    <tr>\n",
       "      <th>7</th>\n",
       "      <td>000009</td>\n",
       "      <td>2014-12-31</td>\n",
       "      <td>S90</td>\n",
       "      <td>1.0</td>\n",
       "      <td>1</td>\n",
       "    </tr>\n",
       "    <tr>\n",
       "      <th>12</th>\n",
       "      <td>000011</td>\n",
       "      <td>2019-12-31</td>\n",
       "      <td>K70</td>\n",
       "      <td>1.0</td>\n",
       "      <td>1</td>\n",
       "    </tr>\n",
       "    <tr>\n",
       "      <th>...</th>\n",
       "      <td>...</td>\n",
       "      <td>...</td>\n",
       "      <td>...</td>\n",
       "      <td>...</td>\n",
       "      <td>...</td>\n",
       "    </tr>\n",
       "    <tr>\n",
       "      <th>2409</th>\n",
       "      <td>688737</td>\n",
       "      <td>2021-12-31</td>\n",
       "      <td>C26</td>\n",
       "      <td>1.0</td>\n",
       "      <td>1</td>\n",
       "    </tr>\n",
       "    <tr>\n",
       "      <th>2441</th>\n",
       "      <td>831961</td>\n",
       "      <td>2022-12-31</td>\n",
       "      <td>C40</td>\n",
       "      <td>1.0</td>\n",
       "      <td>1</td>\n",
       "    </tr>\n",
       "    <tr>\n",
       "      <th>2467</th>\n",
       "      <td>833580</td>\n",
       "      <td>2023-12-31</td>\n",
       "      <td>C30</td>\n",
       "      <td>1.0</td>\n",
       "      <td>1</td>\n",
       "    </tr>\n",
       "    <tr>\n",
       "      <th>2493</th>\n",
       "      <td>835892</td>\n",
       "      <td>2023-12-31</td>\n",
       "      <td>C35</td>\n",
       "      <td>1.0</td>\n",
       "      <td>1</td>\n",
       "    </tr>\n",
       "    <tr>\n",
       "      <th>2495</th>\n",
       "      <td>835985</td>\n",
       "      <td>2023-12-31</td>\n",
       "      <td>C38</td>\n",
       "      <td>1.0</td>\n",
       "      <td>1</td>\n",
       "    </tr>\n",
       "  </tbody>\n",
       "</table>\n",
       "<p>243 rows × 5 columns</p>\n",
       "</div>"
      ],
      "text/plain": [
       "     Symbol_sample     EndDate IndustryCode  auditCom_temp  auditCom\n",
       "2           000006  2015-12-31          K70            1.0         1\n",
       "5           000009  2012-12-31          S90            1.0         1\n",
       "6           000009  2013-12-31          S90            2.0         1\n",
       "7           000009  2014-12-31          S90            1.0         1\n",
       "12          000011  2019-12-31          K70            1.0         1\n",
       "...            ...         ...          ...            ...       ...\n",
       "2409        688737  2021-12-31          C26            1.0         1\n",
       "2441        831961  2022-12-31          C40            1.0         1\n",
       "2467        833580  2023-12-31          C30            1.0         1\n",
       "2493        835892  2023-12-31          C35            1.0         1\n",
       "2495        835985  2023-12-31          C38            1.0         1\n",
       "\n",
       "[243 rows x 5 columns]"
      ]
     },
     "execution_count": 51,
     "metadata": {},
     "output_type": "execute_result"
    }
   ],
   "source": [
    "sample.loc[:, \"auditCom\"] = [0 if i == 0 else 1 for i in sample.auditCom_temp]\n",
    "sample.query(\"auditCom == 1\")"
   ]
  },
  {
   "cell_type": "code",
   "execution_count": 52,
   "metadata": {},
   "outputs": [],
   "source": [
    "final = sample.drop(columns=[\"auditCom_temp\"])\n",
    "final.to_csv(\"./Result/混合样本.csv\", index=False)"
   ]
  }
 ],
 "metadata": {
  "kernelspec": {
   "display_name": "Python 3",
   "language": "python",
   "name": "python3"
  },
  "language_info": {
   "codemirror_mode": {
    "name": "ipython",
    "version": 3
   },
   "file_extension": ".py",
   "mimetype": "text/x-python",
   "name": "python",
   "nbconvert_exporter": "python",
   "pygments_lexer": "ipython3",
   "version": "3.9.6"
  }
 },
 "nbformat": 4,
 "nbformat_minor": 2
}
