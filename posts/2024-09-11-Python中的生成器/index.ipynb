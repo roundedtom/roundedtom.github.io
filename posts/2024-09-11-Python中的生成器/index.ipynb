{
 "cells": [
  {
   "cell_type": "raw",
   "metadata": {
    "vscode": {
     "languageId": "raw"
    }
   },
   "source": [
    "---\n",
    "title: Python中的生成器表达式与生成器\n",
    "author: Tom\n",
    "date: \"2024-09-11\"\n",
    "toc: true # 是否开启文章目录\n",
    "toc-depth: 2 # 目录层级深度，默认3级目录\n",
    "toc-expand: true # 目录是否展开\n",
    "code-block-bg: true # 代码块背景颜色\n",
    "highlight-style: atom-one # 代码块语法高亮风格\n",
    "categories:\n",
    "  - Python\n",
    "image: figure.png\n",
    "code-fold: false # 代码块是否折叠\n",
    "cold-line-numbers: true # 代码块是否显示行数\n",
    "code-copy: true # true/false/hover\n",
    "draft: false # 博文是否为草稿，草稿不显示在博客中\n",
    "html-math-method: katex # latex 引擎，默认是 MathJax\n",
    "jupyter: python3\n",
    "---"
   ]
  },
  {
   "cell_type": "markdown",
   "metadata": {},
   "source": [
    "生成器表达式（generator expression）是 Python 中的一种简洁方式，用来在迭代时生成数据，而不是一次性将所有结果存储在内存中。它与列表推导式（list comprehension）类似，但它不返回整个列表，而是返回一个生成器对象，通过惰性求值节省内存。\n",
    "\n",
    "# 生成器表达式与列表推导式\n",
    "\n",
    "列表推导式可以快速从一个可迭代对象生成一个新的列表。比如我们从 L 生成一个新的列表 x："
   ]
  },
  {
   "cell_type": "code",
   "execution_count": 1,
   "metadata": {},
   "outputs": [
    {
     "name": "stdout",
     "output_type": "stream",
     "text": [
      "[1, 4, 9]\n"
     ]
    }
   ],
   "source": [
    "# list expression\n",
    "L = [1, 2, 3]\n",
    "x = [i**2 for i in L]\n",
    "print(x)"
   ]
  },
  {
   "cell_type": "markdown",
   "metadata": {},
   "source": [
    "生成器表达式则返回一个生成器对象，可以通过 `next()` 函数计算求值："
   ]
  },
  {
   "cell_type": "code",
   "execution_count": 3,
   "metadata": {},
   "outputs": [
    {
     "name": "stdout",
     "output_type": "stream",
     "text": [
      "<generator object <genexpr> at 0x7f3276ef7440>\n",
      "1\n"
     ]
    }
   ],
   "source": [
    "# generator expression\n",
    "L = [1, 2, 3]\n",
    "x = (i**2 for i in L)\n",
    "print(x)\n",
    "print(next(x))"
   ]
  },
  {
   "cell_type": "markdown",
   "metadata": {},
   "source": [
    "`next()` 函数会记录上一次打印的值从上一次中断处继续执行，直到循环结束抛出异常："
   ]
  },
  {
   "cell_type": "code",
   "execution_count": 4,
   "metadata": {},
   "outputs": [
    {
     "name": "stdout",
     "output_type": "stream",
     "text": [
      "4\n",
      "9\n"
     ]
    },
    {
     "ename": "StopIteration",
     "evalue": "",
     "output_type": "error",
     "traceback": [
      "\u001b[0;31m---------------------------------------------------------------------------\u001b[0m",
      "\u001b[0;31mStopIteration\u001b[0m                             Traceback (most recent call last)",
      "Cell \u001b[0;32mIn[4], line 3\u001b[0m\n\u001b[1;32m      1\u001b[0m \u001b[38;5;28mprint\u001b[39m(\u001b[38;5;28mnext\u001b[39m(x))\n\u001b[1;32m      2\u001b[0m \u001b[38;5;28mprint\u001b[39m(\u001b[38;5;28mnext\u001b[39m(x))\n\u001b[0;32m----> 3\u001b[0m \u001b[38;5;28mprint\u001b[39m(\u001b[38;5;28;43mnext\u001b[39;49m\u001b[43m(\u001b[49m\u001b[43mx\u001b[49m\u001b[43m)\u001b[49m)\n",
      "\u001b[0;31mStopIteration\u001b[0m: "
     ]
    }
   ],
   "source": [
    "print(next(x))\n",
    "print(next(x))\n",
    "print(next(x))"
   ]
  },
  {
   "cell_type": "markdown",
   "metadata": {},
   "source": [
    "以上当 3 次求值再进行求值便抛出异常。同理也可以使用 for 循环对生成器表达式进行迭代："
   ]
  },
  {
   "cell_type": "code",
   "execution_count": 5,
   "metadata": {},
   "outputs": [
    {
     "name": "stdout",
     "output_type": "stream",
     "text": [
      "1\n",
      "4\n",
      "9\n"
     ]
    }
   ],
   "source": [
    "L = [1, 2, 3]\n",
    "x = (i**2 for i in L)\n",
    "for i in x:\n",
    "    print(i)"
   ]
  },
  {
   "cell_type": "markdown",
   "metadata": {},
   "source": [
    "# 生成器与迭代器\n",
    "\n",
    "在 Python 中，迭代器（Iterator）是一种用于遍历元素的对象，允许你逐个访问容器（如列表、元组、字典、集合等）中的元素，而无需关心容器的底层实现。Python 中迭代器必须实现两个方法：`__iter__()` 和 `__next__()`。\n",
    "\n",
    "- `__iter__()`：返回迭代器对象本身。这个方法使对象可以被 `iter()` 函数调用。\n",
    "- `__next__()`：返回容器的下一个元素。当没有元素时，会引发 `StopIteration` 异常来结束迭代。\n",
    "\n",
    "迭代器不会在内存中一次性生成所有元素，而是在每次调用 `next()` 方法是生成下一个值。且迭代器只能遍历一次，一旦迭代完毕就会耗尽，不能再次使用。\n",
    "\n",
    "生成器是一种特殊的迭代器。生成器通过使用 `yield` 关键字定义，与普通函数不同的是，生成器函数在执行时会保存它的状态（局部变量、位置等），每次调用时可以从上次停止的地方继续执行。这种特性使得生成器非常适合处理大量数据或无限序列，因为它可以按需产生值，而不需要一次性将所有数据加载到内存中。"
   ]
  },
  {
   "cell_type": "code",
   "execution_count": 6,
   "metadata": {},
   "outputs": [
    {
     "name": "stdout",
     "output_type": "stream",
     "text": [
      "1\n",
      "2\n",
      "3\n"
     ]
    },
    {
     "ename": "StopIteration",
     "evalue": "",
     "output_type": "error",
     "traceback": [
      "\u001b[0;31m---------------------------------------------------------------------------\u001b[0m",
      "\u001b[0;31mStopIteration\u001b[0m                             Traceback (most recent call last)",
      "Cell \u001b[0;32mIn[6], line 11\u001b[0m\n\u001b[1;32m      9\u001b[0m \u001b[38;5;28mprint\u001b[39m(\u001b[38;5;28mnext\u001b[39m(gen))\n\u001b[1;32m     10\u001b[0m \u001b[38;5;28mprint\u001b[39m(\u001b[38;5;28mnext\u001b[39m(gen))\n\u001b[0;32m---> 11\u001b[0m \u001b[38;5;28mprint\u001b[39m(\u001b[38;5;28;43mnext\u001b[39;49m\u001b[43m(\u001b[49m\u001b[43mgen\u001b[49m\u001b[43m)\u001b[49m)\n",
      "\u001b[0;31mStopIteration\u001b[0m: "
     ]
    }
   ],
   "source": [
    "# 定义生成器\n",
    "def generator_test():\n",
    "    for i in [1, 2, 3]:\n",
    "        yield i\n",
    "        \n",
    "# 使用生成器\n",
    "gen = generator_test()\n",
    "print(next(gen))\n",
    "print(next(gen))\n",
    "print(next(gen))\n",
    "print(next(gen))"
   ]
  },
  {
   "cell_type": "markdown",
   "metadata": {},
   "source": [
    "在上面的代码中，我们定义了一个生成器函数，它在每次执行到 `yield` 时返回一个值并暂停执行，直到被再次调用。通过 `next()` 逐步求值。迭代 3 次完毕后再次求值抛出异常。\n",
    "\n",
    "Python 也提供了一些内建的生成器函数，可以简化某些常见的迭代任务，并节约内存空间，比如 `range()`、`enumerate()`、`zip()` 等。\n",
    "\n",
    "# 迭代器与可迭代对象\n",
    "\n",
    "在 Python 中，可迭代对象（Iterable）是指可以逐个返回其元素的对象。可迭代对象实现了 `__iter__()` 方法，允许你使用 for 循环或其他迭代方式遍历其元素。常见的可迭代对象包括列表、元组、字符串、字典、集合等。\n",
    "\n",
    "我们可以使用 Python 标准库中的 `collections.abc.Iterable` 来检查对象是否是可迭代的："
   ]
  },
  {
   "cell_type": "code",
   "execution_count": 7,
   "metadata": {},
   "outputs": [
    {
     "name": "stdout",
     "output_type": "stream",
     "text": [
      "True\n",
      "False\n"
     ]
    }
   ],
   "source": [
    "from collections.abc import Iterable\n",
    "\n",
    "print(isinstance([1, 2, 3, 4], Iterable)) \n",
    "print(isinstance(1234, Iterable))       \n"
   ]
  },
  {
   "cell_type": "markdown",
   "metadata": {},
   "source": [
    "可迭代对象可以被 `iter()` 函数转化为迭代器："
   ]
  },
  {
   "cell_type": "code",
   "execution_count": 8,
   "metadata": {},
   "outputs": [
    {
     "name": "stdout",
     "output_type": "stream",
     "text": [
      "<list_iterator object at 0x7f3276f269b0>\n"
     ]
    }
   ],
   "source": [
    "x = [1, 2, 3, 4]\n",
    "print(iter(x))"
   ]
  },
  {
   "cell_type": "markdown",
   "metadata": {},
   "source": [
    "事实上，当我们使用 for 循环或其他迭代操作时，Python 会在后台调用 `iter()` 函数将可迭代对象转化为迭代器，然后使用 `next()` 函数逐个获取元素，直到捕获 `StopIteration` 异常，但不会抛出该异常。"
   ]
  }
 ],
 "metadata": {
  "kernelspec": {
   "display_name": "Python 3",
   "language": "python",
   "name": "python3"
  },
  "language_info": {
   "codemirror_mode": {
    "name": "ipython",
    "version": 3
   },
   "file_extension": ".py",
   "mimetype": "text/x-python",
   "name": "python",
   "nbconvert_exporter": "python",
   "pygments_lexer": "ipython3",
   "version": "3.12.2"
  }
 },
 "nbformat": 4,
 "nbformat_minor": 2
}
