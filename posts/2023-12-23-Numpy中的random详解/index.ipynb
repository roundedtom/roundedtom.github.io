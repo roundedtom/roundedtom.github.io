{
 "cells": [
  {
   "cell_type": "raw",
   "metadata": {
    "vscode": {
     "languageId": "raw"
    }
   },
   "source": [
    "---\n",
    "title: Numpy中的random模块详解\n",
    "description: 使用Numpy中的random模块生成随机数有何优势，Generator类如何使用，以及常用的概率分布的实现方法。\n",
    "author: Tom\n",
    "date: \"2023-12-23\"\n",
    "toc: true  # 是否开启文章目录\n",
    "toc-depth: 3 # 目录层级深度，默认3级目录\n",
    "toc-expand: true\n",
    "code-block-bg: true  # 代码块背景颜色\n",
    "highlight-style: atom-one  # 代码块语法高亮风格\n",
    "categories:\n",
    "  - 概率与统计\n",
    "  - 数据分析\n",
    "image: code-snapshot.png\n",
    "code-fold: false  # 代码块是否折叠\n",
    "cold-line-numbers: true # 代码块是否显示行数\n",
    "code-copy: true # true/false/hover\n",
    "draft: false  # 博文是否为草稿，草稿不显示在博客中\n",
    "html-math-method: katex # latex 引擎，默认是 MathJax\n",
    "jupyter: python3\n",
    "---"
   ]
  },
  {
   "cell_type": "markdown",
   "metadata": {},
   "source": [
    "> In a sense, there is no such things as a random number. For example, is 2 a random number? Rather, we speak of a sequence of independent random numbers with a specified distribution. -Donald Knuth\n",
    "\n",
    "编写程序时，我们常常会用到随机数，比如爬虫时随机 Sleep、随机从 UA 池中选择 UA、模拟掷色子等等。那么计算机如何生成随机数呢？\n",
    "\n",
    "一种方式是通过接受外部输入，继承外部的随机性，比如[盖革计数器](https://zh.wikipedia.org/zh-hans/%E7%9B%96%E9%9D%A9%E8%AE%A1%E6%95%B0%E5%99%A8)。这种方式存在一些缺点。首先是需要外部硬件设备，其次收集分析外部数据可能需要较长时间，最关键的是随机数大概率无法复现，这对于程序调试是一个很大的问题。\n",
    "\n",
    "第二种方式是使用伪随机数生成器（PRNG）算法。比如 Python 的 random 模块使用马特塞特旋转算法（Mersenne Twister）生成随机数。马特塞特旋转算法基于线性同余生成器，被广泛使用在各类随机数生成器中，但该算法有一个确定的周期，并且需要大量的计算资源。因此自版本 1.17 以来，NumPy 使用更高效的置换同余生成器-64（PCG64）算法。PCG64 算法的周期性更长，产生的数字更难以预测，生成速度更快且需要更少的资源。\n",
    "\n",
    "# BitGenerator 与 Generator\n",
    "\n",
    "[`BitGenerator`](https://numpy.org/doc/stable/reference/random/bit_generators/generated/numpy.random.BitGenerator.html#numpy.random.BitGenerator) 类允许我们自定义算法和随机数种子，`Generator` 是 `BitGenerator` 的容器。为了访问随机数，`BitGenerator` 被传递到一个单独的 `Generator` 对象中。`Generator` 具有允许用户访问一系列随机数并执行多个随机化操作的方法。`numpy.random` 模块提供了这种功能。\n"
   ]
  },
  {
   "cell_type": "code",
   "execution_count": 3,
   "metadata": {},
   "outputs": [
    {
     "data": {
      "text/plain": [
       "-0.7384404676801147"
      ]
     },
     "execution_count": 3,
     "metadata": {},
     "output_type": "execute_result"
    }
   ],
   "source": [
    "import numpy as np\n",
    "from numpy.random import Generator, PCG64\n",
    "\n",
    "rng = Generator(PCG64())\n",
    "rng.standard_normal()"
   ]
  },
  {
   "cell_type": "markdown",
   "metadata": {},
   "source": [
    "# default_rng\n",
    "\n",
    "如果你愿意让 NumPy 为你完成所有的随机数生成工作，你可以使用它的默认值。换句话说，你的 BitGenerator 将使用 PCG64，并使用计算机时钟的种子。为了方便使用默认值，NumPy 提供了一个非常方便的 default_rng() 函数。这个函数会为你设置一切，并返回一个 Generator 对象的引用，供你使用其强大方法生成随机数。\n"
   ]
  },
  {
   "cell_type": "code",
   "execution_count": 29,
   "metadata": {},
   "outputs": [],
   "source": [
    "from numpy.random import default_rng\n",
    "import matplotlib.pyplot as plt"
   ]
  },
  {
   "cell_type": "code",
   "execution_count": 5,
   "metadata": {},
   "outputs": [],
   "source": [
    "rng = default_rng(12345)"
   ]
  },
  {
   "attachments": {},
   "cell_type": "markdown",
   "metadata": {},
   "source": [
    "## Simple random data\n",
    "\n",
    "### `random`\n",
    "\n",
    "`random.Generator.random(size=None, dtype=np.float64, out=None)`\n",
    "\n",
    "创建一个给定形状的数组，并用 `[0,1)` 均匀分布的随机样本填充它。\n"
   ]
  },
  {
   "cell_type": "code",
   "execution_count": 6,
   "metadata": {},
   "outputs": [
    {
     "data": {
      "text/plain": [
       "0.22733602246716966"
      ]
     },
     "execution_count": 6,
     "metadata": {},
     "output_type": "execute_result"
    }
   ],
   "source": [
    "rng.random()"
   ]
  },
  {
   "cell_type": "code",
   "execution_count": 7,
   "metadata": {},
   "outputs": [
    {
     "data": {
      "text/plain": [
       "array([[0.31675834, 0.79736546, 0.67625467, 0.39110955],\n",
       "       [0.33281393, 0.59830875, 0.18673419, 0.67275604],\n",
       "       [0.94180287, 0.24824571, 0.94888115, 0.66723745]])"
      ]
     },
     "execution_count": 7,
     "metadata": {},
     "output_type": "execute_result"
    }
   ],
   "source": [
    "rng.random((3, 4))"
   ]
  },
  {
   "attachments": {},
   "cell_type": "markdown",
   "metadata": {},
   "source": [
    "### `integers`\n",
    "\n",
    "`random.Generator.integers(low, high=None, size=None, dtype=np.int64, endpoint=False)`\n",
    "\n",
    "创建一个给定形状的数组，并用从 low（包含）到 high（不包含）之间“离散均分”分布的随机整数填充它；如果 `endpoint=True`，则用从 low（包含）到 high（包含）之间的随机整数进行填充。\n"
   ]
  },
  {
   "cell_type": "code",
   "execution_count": 8,
   "metadata": {},
   "outputs": [
    {
     "data": {
      "text/plain": [
       "array([[3, 2, 4, 5],\n",
       "       [2, 9, 5, 7],\n",
       "       [3, 4, 2, 7]])"
      ]
     },
     "execution_count": 8,
     "metadata": {},
     "output_type": "execute_result"
    }
   ],
   "source": [
    "rng.integers(low=2, high=10, size=(3, 4))"
   ]
  },
  {
   "attachments": {},
   "cell_type": "markdown",
   "metadata": {},
   "source": [
    "如果 high 为 None（默认值），则结果范围从 0 到 low。\n"
   ]
  },
  {
   "cell_type": "code",
   "execution_count": 9,
   "metadata": {},
   "outputs": [
    {
     "data": {
      "text/plain": [
       "3"
      ]
     },
     "execution_count": 9,
     "metadata": {},
     "output_type": "execute_result"
    }
   ],
   "source": [
    "rng.integers(5)"
   ]
  },
  {
   "attachments": {},
   "cell_type": "markdown",
   "metadata": {},
   "source": [
    "### `choice`\n",
    "\n",
    "`random.Generator.choice(a, size=None, replace=True, p=None, axis=0, shuffle=True)`\n",
    "\n",
    "从给定数组中生成一个随机样本。如果 `a` 是一个整数，则从 `np.arange(a)` 生成样本。\n"
   ]
  },
  {
   "cell_type": "code",
   "execution_count": 10,
   "metadata": {},
   "outputs": [
    {
     "data": {
      "text/plain": [
       "array([1, 3, 0])"
      ]
     },
     "execution_count": 10,
     "metadata": {},
     "output_type": "execute_result"
    }
   ],
   "source": [
    "rng.choice(5, 3)"
   ]
  },
  {
   "attachments": {},
   "cell_type": "markdown",
   "metadata": {},
   "source": [
    "如果 `a` 是一个数组，则默认从 `a` 均匀随机采样。\n"
   ]
  },
  {
   "cell_type": "code",
   "execution_count": 11,
   "metadata": {},
   "outputs": [
    {
     "name": "stdout",
     "output_type": "stream",
     "text": [
      "[ 9  4 15  8 10 10 10  6 12 16]\n"
     ]
    },
    {
     "data": {
      "text/plain": [
       "array([[10,  4,  9,  4,  9],\n",
       "       [ 9,  4, 10, 12, 12]])"
      ]
     },
     "execution_count": 11,
     "metadata": {},
     "output_type": "execute_result"
    }
   ],
   "source": [
    "a = rng.integers(low=2, high=20, size=10)\n",
    "print(a)\n",
    "rng.choice(a, size=(2, 5))"
   ]
  },
  {
   "attachments": {},
   "cell_type": "markdown",
   "metadata": {},
   "source": [
    "也可以使用参数 `p` 为采样数组中的每个样本确定采样概率。\n"
   ]
  },
  {
   "cell_type": "code",
   "execution_count": 12,
   "metadata": {},
   "outputs": [
    {
     "name": "stdout",
     "output_type": "stream",
     "text": [
      "[13 12  7 18 13 15 15 17 14 18]\n",
      "[0.0915493  0.08450704 0.04929577 0.12676056 0.0915493  0.1056338\n",
      " 0.1056338  0.11971831 0.09859155 0.12676056]\n"
     ]
    },
    {
     "data": {
      "text/plain": [
       "array([[15, 18, 15, 18],\n",
       "       [15, 17, 18, 18]])"
      ]
     },
     "execution_count": 12,
     "metadata": {},
     "output_type": "execute_result"
    }
   ],
   "source": [
    "a = rng.integers(low=2, high=20, size=10)\n",
    "p = a / sum(a)  # 注意 p 为一个概率分布，满足归一化原理\n",
    "print(a)\n",
    "print(p)\n",
    "rng.choice(a, size=(2, 4), p=p)"
   ]
  },
  {
   "attachments": {},
   "cell_type": "markdown",
   "metadata": {},
   "source": [
    "如果采样数组 `a` 的维数超过了 1，那么 `size` 参数将会沿轴 0 插入。比如 `a.shape=(2,5)`，`size=(3,4)`，则采样生成的数组 `b.shape=(3,4,5)`。\n"
   ]
  },
  {
   "cell_type": "code",
   "execution_count": 13,
   "metadata": {},
   "outputs": [
    {
     "name": "stdout",
     "output_type": "stream",
     "text": [
      "[[[10  6  7  8 13]\n",
      "  [ 6 17  8  3  2]\n",
      "  [10  6  7  8 13]\n",
      "  [10  6  7  8 13]]\n",
      "\n",
      " [[ 6 17  8  3  2]\n",
      "  [10  6  7  8 13]\n",
      "  [ 6 17  8  3  2]\n",
      "  [ 6 17  8  3  2]]\n",
      "\n",
      " [[10  6  7  8 13]\n",
      "  [10  6  7  8 13]\n",
      "  [10  6  7  8 13]\n",
      "  [10  6  7  8 13]]]\n"
     ]
    }
   ],
   "source": [
    "a = rng.integers(low=2, high=20, size=(2, 5))\n",
    "b = rng.choice(a, size=(3, 4))\n",
    "print(b)  # b.shape=(3,4,5)"
   ]
  },
  {
   "attachments": {},
   "cell_type": "markdown",
   "metadata": {},
   "source": [
    "## Permutations\n",
    "\n",
    "### `shuffle`\n",
    "\n",
    "`random.Generator.shuffle(x, axis=0)`\n",
    "\n",
    "对所给数组进行重新排列（inplace）。\n"
   ]
  },
  {
   "cell_type": "code",
   "execution_count": 14,
   "metadata": {},
   "outputs": [
    {
     "name": "stdout",
     "output_type": "stream",
     "text": [
      "[0 1 2 3 4 5 6 7 8 9]\n",
      "[6 2 7 4 0 5 8 9 3 1]\n"
     ]
    }
   ],
   "source": [
    "x = np.arange(10)\n",
    "print(x)\n",
    "rng.shuffle(x)\n",
    "print(x)"
   ]
  },
  {
   "attachments": {},
   "cell_type": "markdown",
   "metadata": {},
   "source": [
    "可以利用 `axis` 参数指定沿着哪个轴随机排列，`axis=1` 表示每列作为一个整体随机排列。\n"
   ]
  },
  {
   "cell_type": "code",
   "execution_count": 15,
   "metadata": {},
   "outputs": [
    {
     "name": "stdout",
     "output_type": "stream",
     "text": [
      "[[ 0  1  2  3]\n",
      " [ 4  5  6  7]\n",
      " [ 8  9 10 11]]\n",
      "[[ 1  2  0  3]\n",
      " [ 5  6  4  7]\n",
      " [ 9 10  8 11]]\n"
     ]
    }
   ],
   "source": [
    "x = np.arange(12).reshape((3, 4))\n",
    "print(x)\n",
    "rng.shuffle(x, axis=1)\n",
    "print(x)"
   ]
  },
  {
   "attachments": {},
   "cell_type": "markdown",
   "metadata": {},
   "source": [
    "### `permutation`\n",
    "\n",
    "`random.Generator.permutation(x, axis=0)`\n",
    "\n",
    "如果参数 `x` 是一个整数，则随机排列 `np.arange(x)`：\n"
   ]
  },
  {
   "cell_type": "code",
   "execution_count": 16,
   "metadata": {},
   "outputs": [
    {
     "data": {
      "text/plain": [
       "array([0, 1, 5, 9, 6, 7, 8, 3, 4, 2])"
      ]
     },
     "execution_count": 16,
     "metadata": {},
     "output_type": "execute_result"
    }
   ],
   "source": [
    "rng.permutation(10)"
   ]
  },
  {
   "attachments": {},
   "cell_type": "markdown",
   "metadata": {},
   "source": [
    "如果参数 `x` 是一个数组，先做一份拷贝，然后随机打乱元素的顺序：\n"
   ]
  },
  {
   "cell_type": "code",
   "execution_count": 17,
   "metadata": {},
   "outputs": [
    {
     "name": "stdout",
     "output_type": "stream",
     "text": [
      "[[ 0  1  2  3]\n",
      " [ 4  5  6  7]\n",
      " [ 8  9 10 11]]\n"
     ]
    },
    {
     "data": {
      "text/plain": [
       "array([[ 0,  1,  2,  3],\n",
       "       [ 8,  9, 10, 11],\n",
       "       [ 4,  5,  6,  7]])"
      ]
     },
     "execution_count": 17,
     "metadata": {},
     "output_type": "execute_result"
    }
   ],
   "source": [
    "x = np.arange(12).reshape((3, 4))\n",
    "print(x)\n",
    "rng.permutation(x)"
   ]
  },
  {
   "attachments": {},
   "cell_type": "markdown",
   "metadata": {},
   "source": [
    "### `permuted`\n",
    "\n",
    "`random.Generator.permuted(x, axis=None, out=None)`\n",
    "\n",
    "沿着指定的轴（axis）随机排列数组 `x`：\n"
   ]
  },
  {
   "cell_type": "code",
   "execution_count": 18,
   "metadata": {},
   "outputs": [
    {
     "data": {
      "text/plain": [
       "array([[ 3,  0,  8,  7],\n",
       "       [ 1,  2, 11,  6],\n",
       "       [ 9,  5, 10,  4]])"
      ]
     },
     "execution_count": 18,
     "metadata": {},
     "output_type": "execute_result"
    }
   ],
   "source": [
    "x = np.arange(12).reshape((3, 4))\n",
    "rng.permuted(x)"
   ]
  },
  {
   "attachments": {},
   "cell_type": "markdown",
   "metadata": {},
   "source": [
    "使用 `out` 参数原地排列：\n"
   ]
  },
  {
   "cell_type": "code",
   "execution_count": 19,
   "metadata": {},
   "outputs": [
    {
     "data": {
      "text/plain": [
       "array([[ 5, 10,  3,  6],\n",
       "       [ 8,  0,  2,  9],\n",
       "       [11,  1,  4,  7]])"
      ]
     },
     "execution_count": 19,
     "metadata": {},
     "output_type": "execute_result"
    }
   ],
   "source": [
    "x = np.arange(12).reshape((3, 4))\n",
    "rng.permuted(x, out=x)\n",
    "x"
   ]
  },
  {
   "attachments": {},
   "cell_type": "markdown",
   "metadata": {},
   "source": [
    "使用 `axis=1` 参数可以对每行内的值（即沿着 axis=1 的值）独立地进行排列。\n"
   ]
  },
  {
   "cell_type": "code",
   "execution_count": 20,
   "metadata": {},
   "outputs": [
    {
     "data": {
      "text/plain": [
       "array([[ 3,  1,  0,  2],\n",
       "       [ 6,  5,  7,  4],\n",
       "       [10,  9, 11,  8]])"
      ]
     },
     "execution_count": 20,
     "metadata": {},
     "output_type": "execute_result"
    }
   ],
   "source": [
    "x = np.arange(12).reshape((3, 4))\n",
    "rng.permuted(x, axis=1)"
   ]
  },
  {
   "attachments": {},
   "cell_type": "markdown",
   "metadata": {},
   "source": [
    "## 概率分布\n",
    "\n",
    "### 均匀分布\n",
    "\n",
    "`random.Generator.uniform(low=0.0, high=1.0, size=None)`\n"
   ]
  },
  {
   "cell_type": "code",
   "execution_count": 21,
   "metadata": {},
   "outputs": [
    {
     "data": {
      "text/plain": [
       "array([[-1.95143936, -0.94978521,  2.35000339,  2.86414901],\n",
       "       [ 0.20896172, -0.10625253, -0.62026459,  2.83052055],\n",
       "       [-1.70898697,  0.04366949, -1.15685578, -0.79927971]])"
      ]
     },
     "execution_count": 21,
     "metadata": {},
     "output_type": "execute_result"
    }
   ],
   "source": [
    "rng.uniform(-2, 3, size=(3, 4))"
   ]
  },
  {
   "cell_type": "code",
   "execution_count": 44,
   "metadata": {},
   "outputs": [],
   "source": [
    "def my_plotter(ax, data1, bins, param_dict):\n",
    "    \"\"\"\n",
    "    A helper function to make a graph.\n",
    "    \"\"\"\n",
    "    n, bins, patches = ax.hist(data1, bins=bins, density=True, **param_dict)\n",
    "    return n, bins, patches"
   ]
  },
  {
   "cell_type": "code",
   "execution_count": 51,
   "metadata": {},
   "outputs": [
    {
     "data": {
      "image/png": "[encoded data removed]",
      "text/plain": [
       "<Figure size 1600x800 with 1 Axes>"
      ]
     },
     "metadata": {},
     "output_type": "display_data"
    }
   ],
   "source": [
    "fig, ax = plt.subplots(figsize=(16, 8), layout=\"constrained\")\n",
    "\n",
    "res = my_plotter(\n",
    "    ax,\n",
    "    rng.uniform(0, 1, size=500),\n",
    "    20,\n",
    "    {\"color\": \"darkgreen\", \"edgecolor\": \"black\", \"alpha\": 0.5},\n",
    ")"
   ]
  },
  {
   "attachments": {},
   "cell_type": "markdown",
   "metadata": {},
   "source": [
    "### 二项分布\n",
    "\n",
    "`random.Generator.binomial(n, p, size=None)`\n"
   ]
  },
  {
   "cell_type": "code",
   "execution_count": 22,
   "metadata": {},
   "outputs": [
    {
     "data": {
      "text/plain": [
       "array([6, 4, 5, 4, 5, 4, 4, 4, 3, 5, 7, 8, 2, 7, 3, 6, 7, 3, 4, 5])"
      ]
     },
     "execution_count": 22,
     "metadata": {},
     "output_type": "execute_result"
    }
   ],
   "source": [
    "rng.binomial(10, 0.5, 20)"
   ]
  },
  {
   "cell_type": "code",
   "execution_count": 23,
   "metadata": {},
   "outputs": [
    {
     "data": {
      "text/plain": [
       "array([[4, 5, 1, 5, 7],\n",
       "       [3, 5, 5, 6, 8],\n",
       "       [6, 4, 6, 4, 6],\n",
       "       [6, 8, 7, 2, 4]])"
      ]
     },
     "execution_count": 23,
     "metadata": {},
     "output_type": "execute_result"
    }
   ],
   "source": [
    "rng.binomial(10, 0.5, (4, 5))"
   ]
  },
  {
   "cell_type": "code",
   "execution_count": 50,
   "metadata": {},
   "outputs": [
    {
     "data": {
      "image/png": "[encoded data removed]",
      "text/plain": [
       "<Figure size 1600x800 with 1 Axes>"
      ]
     },
     "metadata": {},
     "output_type": "display_data"
    }
   ],
   "source": [
    "fig, ax = plt.subplots(figsize=(16, 8), layout=\"constrained\")\n",
    "\n",
    "res = my_plotter(\n",
    "    ax,\n",
    "    rng.binomial(10, 0.5, 500),\n",
    "    20,\n",
    "    {\"color\": \"darkgreen\", \"edgecolor\": \"black\", \"alpha\": 0.5},\n",
    ")"
   ]
  },
  {
   "attachments": {},
   "cell_type": "markdown",
   "metadata": {},
   "source": [
    "### 几何分布\n",
    "\n",
    "`random.Generator.geometric(p, size=None)`\n"
   ]
  },
  {
   "cell_type": "code",
   "execution_count": 24,
   "metadata": {},
   "outputs": [
    {
     "data": {
      "text/plain": [
       "array([14,  4,  2,  1,  4,  1,  5,  4,  5,  2])"
      ]
     },
     "execution_count": 24,
     "metadata": {},
     "output_type": "execute_result"
    }
   ],
   "source": [
    "rng.geometric(0.1, 10)"
   ]
  },
  {
   "cell_type": "code",
   "execution_count": 52,
   "metadata": {},
   "outputs": [
    {
     "data": {
      "image/png": "[encoded data removed]",
      "text/plain": [
       "<Figure size 1600x800 with 1 Axes>"
      ]
     },
     "metadata": {},
     "output_type": "display_data"
    }
   ],
   "source": [
    "fig, ax = plt.subplots(figsize=(16, 8), layout=\"constrained\")\n",
    "\n",
    "res = my_plotter(\n",
    "    ax,\n",
    "    rng.geometric(0.1, 500),\n",
    "    50,\n",
    "    {\"color\": \"darkgreen\", \"edgecolor\": \"black\", \"alpha\": 0.5},\n",
    ")"
   ]
  },
  {
   "attachments": {},
   "cell_type": "markdown",
   "metadata": {},
   "source": [
    "### 指数分布\n",
    "\n",
    "`random.Generator.exponential(scale=1.0, size=None)`\n",
    "\n",
    "$$\n",
    "f(x,\\frac{1}{\\beta}) = \\frac{1}{\\beta}e^{(-\\frac{1}{\\beta}x)}, x>0\n",
    "$$\n",
    "\n",
    "参数 `scale` 即为公式中的 $\\beta$\n"
   ]
  },
  {
   "cell_type": "code",
   "execution_count": 25,
   "metadata": {},
   "outputs": [
    {
     "data": {
      "text/plain": [
       "array([0.32826208, 0.43356883, 0.1341275 , 0.0653662 , 0.21884868,\n",
       "       1.17264919, 2.10547225, 1.45651444, 0.80815348, 0.55032455])"
      ]
     },
     "execution_count": 25,
     "metadata": {},
     "output_type": "execute_result"
    }
   ],
   "source": [
    "rng.exponential(scale=0.5, size=10)"
   ]
  },
  {
   "cell_type": "code",
   "execution_count": 53,
   "metadata": {},
   "outputs": [
    {
     "data": {
      "image/png": "[encoded data removed]",
      "text/plain": [
       "<Figure size 1600x800 with 1 Axes>"
      ]
     },
     "metadata": {},
     "output_type": "display_data"
    }
   ],
   "source": [
    "fig, ax = plt.subplots(figsize=(16, 8), layout=\"constrained\")\n",
    "\n",
    "res = my_plotter(\n",
    "    ax,\n",
    "    rng.exponential(scale=0.5, size=500),\n",
    "    50,\n",
    "    {\"color\": \"darkgreen\", \"edgecolor\": \"black\", \"alpha\": 0.5},\n",
    ")"
   ]
  },
  {
   "attachments": {},
   "cell_type": "markdown",
   "metadata": {},
   "source": [
    "### 正态分布\n",
    "\n",
    "`random.Generator.normal(loc=0.0, scale=1.0, size=None)`\n",
    "\n",
    "$$\n",
    "f(X)= \\frac{1}{\\sqrt{2\\pi}\\sigma}e^{-\\frac{(x-\\mu)^2}{2\\sigma^2}}\n",
    "$$\n",
    "\n",
    "参数 `loc` 和 `scale` 分别为公式中的 $\\mu$ 和 $\\sigma$\n"
   ]
  },
  {
   "cell_type": "code",
   "execution_count": 26,
   "metadata": {},
   "outputs": [
    {
     "data": {
      "text/plain": [
       "array([ 0.37405335, -0.02459374,  0.07726066, -0.68391322, -0.72083767,\n",
       "        1.12062282, -0.05481416, -0.08241372,  0.9359865 ,  1.23853712,\n",
       "        1.27279553,  0.40589222, -0.05032522,  0.28931754,  0.17930568,\n",
       "        1.39748056,  0.29204679,  0.63840567, -0.02788771,  1.37105185])"
      ]
     },
     "execution_count": 26,
     "metadata": {},
     "output_type": "execute_result"
    }
   ],
   "source": [
    "rng.normal(0, 1, 20)"
   ]
  },
  {
   "attachments": {},
   "cell_type": "markdown",
   "metadata": {},
   "source": [
    "numpy 提供了 `standard_nomal` 函数方便快速生成标准正态分布样本：\n"
   ]
  },
  {
   "cell_type": "code",
   "execution_count": 27,
   "metadata": {},
   "outputs": [
    {
     "data": {
      "text/plain": [
       "array([-2.05280763,  0.38050908,  0.75539067, -1.15912585,  2.15031011,\n",
       "       -0.15027022, -0.16116428, -1.07944248,  0.87796618,  0.22446741,\n",
       "       -0.59159345,  0.2262628 ,  0.68618251,  1.21500461,  0.21605944,\n",
       "       -0.96482356, -0.5566078 , -2.29838764, -0.73208213,  0.7364691 ])"
      ]
     },
     "execution_count": 27,
     "metadata": {},
     "output_type": "execute_result"
    }
   ],
   "source": [
    "rng.standard_normal(20)"
   ]
  },
  {
   "cell_type": "code",
   "execution_count": 55,
   "metadata": {},
   "outputs": [
    {
     "data": {
      "image/png": "[encoded data removed]",
      "text/plain": [
       "<Figure size 1600x800 with 1 Axes>"
      ]
     },
     "metadata": {},
     "output_type": "display_data"
    }
   ],
   "source": [
    "fig, ax = plt.subplots(figsize=(16, 8), layout=\"constrained\")\n",
    "\n",
    "res = my_plotter(\n",
    "    ax,\n",
    "    rng.standard_normal(500),\n",
    "    50,\n",
    "    {\"color\": \"darkgreen\", \"edgecolor\": \"black\", \"alpha\": 0.5},\n",
    ")"
   ]
  },
  {
   "attachments": {},
   "cell_type": "markdown",
   "metadata": {},
   "source": [
    "### 泊松分布\n",
    "\n",
    "`random.Generator.poisson(lam=1.0, size=None)`\n",
    "\n",
    "$$\n",
    "f(k, \\lambda) = \\frac{\\lambda^k e^{-\\lambda}}{k!}\n",
    "$$\n"
   ]
  },
  {
   "cell_type": "code",
   "execution_count": 28,
   "metadata": {},
   "outputs": [
    {
     "data": {
      "text/plain": [
       "array([0, 2, 0, 1, 1, 0, 2, 1, 2, 4, 1, 1, 2, 0, 5, 1, 0, 1, 1, 1])"
      ]
     },
     "execution_count": 28,
     "metadata": {},
     "output_type": "execute_result"
    }
   ],
   "source": [
    "rng.poisson(1.2, 20)"
   ]
  },
  {
   "cell_type": "code",
   "execution_count": 56,
   "metadata": {},
   "outputs": [
    {
     "data": {
      "image/png": "[encoded data removed]",
      "text/plain": [
       "<Figure size 1600x800 with 1 Axes>"
      ]
     },
     "metadata": {},
     "output_type": "display_data"
    }
   ],
   "source": [
    "fig, ax = plt.subplots(figsize=(16, 8), layout=\"constrained\")\n",
    "\n",
    "res = my_plotter(\n",
    "    ax,\n",
    "    rng.poisson(1.2, 500),\n",
    "    50,\n",
    "    {\"color\": \"darkgreen\", \"edgecolor\": \"black\", \"alpha\": 0.5},\n",
    ")"
   ]
  },
  {
   "attachments": {},
   "cell_type": "markdown",
   "metadata": {},
   "source": [
    "### 伽马分布\n"
   ]
  },
  {
   "cell_type": "markdown",
   "metadata": {},
   "source": [
    "# 参考资料\n",
    "\n",
    "- https://numpy.org/doc/stable/reference/random/index.html\n",
    "- https://albertcthomas.github.io/good-practices-random-number-generators/\n",
    "- https://www.pcg-random.org/paper.html\n",
    "- https://realpython.com/numpy-random-number-generator/\n"
   ]
  }
 ],
 "metadata": {
  "kernelspec": {
   "display_name": "Python 3",
   "language": "python",
   "name": "python3"
  },
  "language_info": {
   "codemirror_mode": {
    "name": "ipython",
    "version": 3
   },
   "file_extension": ".py",
   "mimetype": "text/x-python",
   "name": "python",
   "nbconvert_exporter": "python",
   "pygments_lexer": "ipython3",
   "version": "3.12.2"
  },
  "orig_nbformat": 4
 },
 "nbformat": 4,
 "nbformat_minor": 2
}
